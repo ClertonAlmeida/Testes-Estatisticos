{
 "cells": [
  {
   "cell_type": "markdown",
   "id": "ba58c905",
   "metadata": {},
   "source": [
    "# Limpando os dados e visualizando"
   ]
  },
  {
   "cell_type": "code",
   "execution_count": 1,
   "id": "2488d544",
   "metadata": {},
   "outputs": [],
   "source": [
    "import pandas as pd\n",
    "dados_tmdb = pd.read_csv('tmdb_5000_movies.csv')"
   ]
  },
  {
   "cell_type": "code",
   "execution_count": 2,
   "id": "de8858ec",
   "metadata": {},
   "outputs": [
    {
     "data": {
      "text/html": [
       "<div>\n",
       "<style scoped>\n",
       "    .dataframe tbody tr th:only-of-type {\n",
       "        vertical-align: middle;\n",
       "    }\n",
       "\n",
       "    .dataframe tbody tr th {\n",
       "        vertical-align: top;\n",
       "    }\n",
       "\n",
       "    .dataframe thead th {\n",
       "        text-align: right;\n",
       "    }\n",
       "</style>\n",
       "<table border=\"1\" class=\"dataframe\">\n",
       "  <thead>\n",
       "    <tr style=\"text-align: right;\">\n",
       "      <th></th>\n",
       "      <th>budget</th>\n",
       "      <th>genres</th>\n",
       "      <th>homepage</th>\n",
       "      <th>id</th>\n",
       "      <th>keywords</th>\n",
       "      <th>original_language</th>\n",
       "      <th>original_title</th>\n",
       "      <th>overview</th>\n",
       "      <th>popularity</th>\n",
       "      <th>production_companies</th>\n",
       "      <th>production_countries</th>\n",
       "      <th>release_date</th>\n",
       "      <th>revenue</th>\n",
       "      <th>runtime</th>\n",
       "      <th>spoken_languages</th>\n",
       "      <th>status</th>\n",
       "      <th>tagline</th>\n",
       "      <th>title</th>\n",
       "      <th>vote_average</th>\n",
       "      <th>vote_count</th>\n",
       "    </tr>\n",
       "  </thead>\n",
       "  <tbody>\n",
       "    <tr>\n",
       "      <th>0</th>\n",
       "      <td>237000000</td>\n",
       "      <td>[{\"id\": 28, \"name\": \"Action\"}, {\"id\": 12, \"nam...</td>\n",
       "      <td>http://www.avatarmovie.com/</td>\n",
       "      <td>19995</td>\n",
       "      <td>[{\"id\": 1463, \"name\": \"culture clash\"}, {\"id\":...</td>\n",
       "      <td>en</td>\n",
       "      <td>Avatar</td>\n",
       "      <td>In the 22nd century, a paraplegic Marine is di...</td>\n",
       "      <td>150.437577</td>\n",
       "      <td>[{\"name\": \"Ingenious Film Partners\", \"id\": 289...</td>\n",
       "      <td>[{\"iso_3166_1\": \"US\", \"name\": \"United States o...</td>\n",
       "      <td>2009-12-10</td>\n",
       "      <td>2787965087</td>\n",
       "      <td>162.0</td>\n",
       "      <td>[{\"iso_639_1\": \"en\", \"name\": \"English\"}, {\"iso...</td>\n",
       "      <td>Released</td>\n",
       "      <td>Enter the World of Pandora.</td>\n",
       "      <td>Avatar</td>\n",
       "      <td>7.2</td>\n",
       "      <td>11800</td>\n",
       "    </tr>\n",
       "    <tr>\n",
       "      <th>1</th>\n",
       "      <td>300000000</td>\n",
       "      <td>[{\"id\": 12, \"name\": \"Adventure\"}, {\"id\": 14, \"...</td>\n",
       "      <td>http://disney.go.com/disneypictures/pirates/</td>\n",
       "      <td>285</td>\n",
       "      <td>[{\"id\": 270, \"name\": \"ocean\"}, {\"id\": 726, \"na...</td>\n",
       "      <td>en</td>\n",
       "      <td>Pirates of the Caribbean: At World's End</td>\n",
       "      <td>Captain Barbossa, long believed to be dead, ha...</td>\n",
       "      <td>139.082615</td>\n",
       "      <td>[{\"name\": \"Walt Disney Pictures\", \"id\": 2}, {\"...</td>\n",
       "      <td>[{\"iso_3166_1\": \"US\", \"name\": \"United States o...</td>\n",
       "      <td>2007-05-19</td>\n",
       "      <td>961000000</td>\n",
       "      <td>169.0</td>\n",
       "      <td>[{\"iso_639_1\": \"en\", \"name\": \"English\"}]</td>\n",
       "      <td>Released</td>\n",
       "      <td>At the end of the world, the adventure begins.</td>\n",
       "      <td>Pirates of the Caribbean: At World's End</td>\n",
       "      <td>6.9</td>\n",
       "      <td>4500</td>\n",
       "    </tr>\n",
       "    <tr>\n",
       "      <th>2</th>\n",
       "      <td>245000000</td>\n",
       "      <td>[{\"id\": 28, \"name\": \"Action\"}, {\"id\": 12, \"nam...</td>\n",
       "      <td>http://www.sonypictures.com/movies/spectre/</td>\n",
       "      <td>206647</td>\n",
       "      <td>[{\"id\": 470, \"name\": \"spy\"}, {\"id\": 818, \"name...</td>\n",
       "      <td>en</td>\n",
       "      <td>Spectre</td>\n",
       "      <td>A cryptic message from Bond’s past sends him o...</td>\n",
       "      <td>107.376788</td>\n",
       "      <td>[{\"name\": \"Columbia Pictures\", \"id\": 5}, {\"nam...</td>\n",
       "      <td>[{\"iso_3166_1\": \"GB\", \"name\": \"United Kingdom\"...</td>\n",
       "      <td>2015-10-26</td>\n",
       "      <td>880674609</td>\n",
       "      <td>148.0</td>\n",
       "      <td>[{\"iso_639_1\": \"fr\", \"name\": \"Fran\\u00e7ais\"},...</td>\n",
       "      <td>Released</td>\n",
       "      <td>A Plan No One Escapes</td>\n",
       "      <td>Spectre</td>\n",
       "      <td>6.3</td>\n",
       "      <td>4466</td>\n",
       "    </tr>\n",
       "    <tr>\n",
       "      <th>3</th>\n",
       "      <td>250000000</td>\n",
       "      <td>[{\"id\": 28, \"name\": \"Action\"}, {\"id\": 80, \"nam...</td>\n",
       "      <td>http://www.thedarkknightrises.com/</td>\n",
       "      <td>49026</td>\n",
       "      <td>[{\"id\": 849, \"name\": \"dc comics\"}, {\"id\": 853,...</td>\n",
       "      <td>en</td>\n",
       "      <td>The Dark Knight Rises</td>\n",
       "      <td>Following the death of District Attorney Harve...</td>\n",
       "      <td>112.312950</td>\n",
       "      <td>[{\"name\": \"Legendary Pictures\", \"id\": 923}, {\"...</td>\n",
       "      <td>[{\"iso_3166_1\": \"US\", \"name\": \"United States o...</td>\n",
       "      <td>2012-07-16</td>\n",
       "      <td>1084939099</td>\n",
       "      <td>165.0</td>\n",
       "      <td>[{\"iso_639_1\": \"en\", \"name\": \"English\"}]</td>\n",
       "      <td>Released</td>\n",
       "      <td>The Legend Ends</td>\n",
       "      <td>The Dark Knight Rises</td>\n",
       "      <td>7.6</td>\n",
       "      <td>9106</td>\n",
       "    </tr>\n",
       "    <tr>\n",
       "      <th>4</th>\n",
       "      <td>260000000</td>\n",
       "      <td>[{\"id\": 28, \"name\": \"Action\"}, {\"id\": 12, \"nam...</td>\n",
       "      <td>http://movies.disney.com/john-carter</td>\n",
       "      <td>49529</td>\n",
       "      <td>[{\"id\": 818, \"name\": \"based on novel\"}, {\"id\":...</td>\n",
       "      <td>en</td>\n",
       "      <td>John Carter</td>\n",
       "      <td>John Carter is a war-weary, former military ca...</td>\n",
       "      <td>43.926995</td>\n",
       "      <td>[{\"name\": \"Walt Disney Pictures\", \"id\": 2}]</td>\n",
       "      <td>[{\"iso_3166_1\": \"US\", \"name\": \"United States o...</td>\n",
       "      <td>2012-03-07</td>\n",
       "      <td>284139100</td>\n",
       "      <td>132.0</td>\n",
       "      <td>[{\"iso_639_1\": \"en\", \"name\": \"English\"}]</td>\n",
       "      <td>Released</td>\n",
       "      <td>Lost in our world, found in another.</td>\n",
       "      <td>John Carter</td>\n",
       "      <td>6.1</td>\n",
       "      <td>2124</td>\n",
       "    </tr>\n",
       "  </tbody>\n",
       "</table>\n",
       "</div>"
      ],
      "text/plain": [
       "      budget                                             genres  \\\n",
       "0  237000000  [{\"id\": 28, \"name\": \"Action\"}, {\"id\": 12, \"nam...   \n",
       "1  300000000  [{\"id\": 12, \"name\": \"Adventure\"}, {\"id\": 14, \"...   \n",
       "2  245000000  [{\"id\": 28, \"name\": \"Action\"}, {\"id\": 12, \"nam...   \n",
       "3  250000000  [{\"id\": 28, \"name\": \"Action\"}, {\"id\": 80, \"nam...   \n",
       "4  260000000  [{\"id\": 28, \"name\": \"Action\"}, {\"id\": 12, \"nam...   \n",
       "\n",
       "                                       homepage      id  \\\n",
       "0                   http://www.avatarmovie.com/   19995   \n",
       "1  http://disney.go.com/disneypictures/pirates/     285   \n",
       "2   http://www.sonypictures.com/movies/spectre/  206647   \n",
       "3            http://www.thedarkknightrises.com/   49026   \n",
       "4          http://movies.disney.com/john-carter   49529   \n",
       "\n",
       "                                            keywords original_language  \\\n",
       "0  [{\"id\": 1463, \"name\": \"culture clash\"}, {\"id\":...                en   \n",
       "1  [{\"id\": 270, \"name\": \"ocean\"}, {\"id\": 726, \"na...                en   \n",
       "2  [{\"id\": 470, \"name\": \"spy\"}, {\"id\": 818, \"name...                en   \n",
       "3  [{\"id\": 849, \"name\": \"dc comics\"}, {\"id\": 853,...                en   \n",
       "4  [{\"id\": 818, \"name\": \"based on novel\"}, {\"id\":...                en   \n",
       "\n",
       "                             original_title  \\\n",
       "0                                    Avatar   \n",
       "1  Pirates of the Caribbean: At World's End   \n",
       "2                                   Spectre   \n",
       "3                     The Dark Knight Rises   \n",
       "4                               John Carter   \n",
       "\n",
       "                                            overview  popularity  \\\n",
       "0  In the 22nd century, a paraplegic Marine is di...  150.437577   \n",
       "1  Captain Barbossa, long believed to be dead, ha...  139.082615   \n",
       "2  A cryptic message from Bond’s past sends him o...  107.376788   \n",
       "3  Following the death of District Attorney Harve...  112.312950   \n",
       "4  John Carter is a war-weary, former military ca...   43.926995   \n",
       "\n",
       "                                production_companies  \\\n",
       "0  [{\"name\": \"Ingenious Film Partners\", \"id\": 289...   \n",
       "1  [{\"name\": \"Walt Disney Pictures\", \"id\": 2}, {\"...   \n",
       "2  [{\"name\": \"Columbia Pictures\", \"id\": 5}, {\"nam...   \n",
       "3  [{\"name\": \"Legendary Pictures\", \"id\": 923}, {\"...   \n",
       "4        [{\"name\": \"Walt Disney Pictures\", \"id\": 2}]   \n",
       "\n",
       "                                production_countries release_date     revenue  \\\n",
       "0  [{\"iso_3166_1\": \"US\", \"name\": \"United States o...   2009-12-10  2787965087   \n",
       "1  [{\"iso_3166_1\": \"US\", \"name\": \"United States o...   2007-05-19   961000000   \n",
       "2  [{\"iso_3166_1\": \"GB\", \"name\": \"United Kingdom\"...   2015-10-26   880674609   \n",
       "3  [{\"iso_3166_1\": \"US\", \"name\": \"United States o...   2012-07-16  1084939099   \n",
       "4  [{\"iso_3166_1\": \"US\", \"name\": \"United States o...   2012-03-07   284139100   \n",
       "\n",
       "   runtime                                   spoken_languages    status  \\\n",
       "0    162.0  [{\"iso_639_1\": \"en\", \"name\": \"English\"}, {\"iso...  Released   \n",
       "1    169.0           [{\"iso_639_1\": \"en\", \"name\": \"English\"}]  Released   \n",
       "2    148.0  [{\"iso_639_1\": \"fr\", \"name\": \"Fran\\u00e7ais\"},...  Released   \n",
       "3    165.0           [{\"iso_639_1\": \"en\", \"name\": \"English\"}]  Released   \n",
       "4    132.0           [{\"iso_639_1\": \"en\", \"name\": \"English\"}]  Released   \n",
       "\n",
       "                                          tagline  \\\n",
       "0                     Enter the World of Pandora.   \n",
       "1  At the end of the world, the adventure begins.   \n",
       "2                           A Plan No One Escapes   \n",
       "3                                 The Legend Ends   \n",
       "4            Lost in our world, found in another.   \n",
       "\n",
       "                                      title  vote_average  vote_count  \n",
       "0                                    Avatar           7.2       11800  \n",
       "1  Pirates of the Caribbean: At World's End           6.9        4500  \n",
       "2                                   Spectre           6.3        4466  \n",
       "3                     The Dark Knight Rises           7.6        9106  \n",
       "4                               John Carter           6.1        2124  "
      ]
     },
     "execution_count": 2,
     "metadata": {},
     "output_type": "execute_result"
    }
   ],
   "source": [
    "dados_tmdb.head()"
   ]
  },
  {
   "cell_type": "code",
   "execution_count": 3,
   "id": "4a0dc045",
   "metadata": {},
   "outputs": [
    {
     "data": {
      "text/html": [
       "<div>\n",
       "<style scoped>\n",
       "    .dataframe tbody tr th:only-of-type {\n",
       "        vertical-align: middle;\n",
       "    }\n",
       "\n",
       "    .dataframe tbody tr th {\n",
       "        vertical-align: top;\n",
       "    }\n",
       "\n",
       "    .dataframe thead th {\n",
       "        text-align: right;\n",
       "    }\n",
       "</style>\n",
       "<table border=\"1\" class=\"dataframe\">\n",
       "  <thead>\n",
       "    <tr style=\"text-align: right;\">\n",
       "      <th></th>\n",
       "      <th>budget</th>\n",
       "      <th>id</th>\n",
       "      <th>popularity</th>\n",
       "      <th>revenue</th>\n",
       "      <th>runtime</th>\n",
       "      <th>vote_average</th>\n",
       "      <th>vote_count</th>\n",
       "    </tr>\n",
       "  </thead>\n",
       "  <tbody>\n",
       "    <tr>\n",
       "      <th>count</th>\n",
       "      <td>4.803000e+03</td>\n",
       "      <td>4803.000000</td>\n",
       "      <td>4803.000000</td>\n",
       "      <td>4.803000e+03</td>\n",
       "      <td>4801.000000</td>\n",
       "      <td>4803.000000</td>\n",
       "      <td>4803.000000</td>\n",
       "    </tr>\n",
       "    <tr>\n",
       "      <th>mean</th>\n",
       "      <td>2.904504e+07</td>\n",
       "      <td>57165.484281</td>\n",
       "      <td>21.492301</td>\n",
       "      <td>8.226064e+07</td>\n",
       "      <td>106.875859</td>\n",
       "      <td>6.092172</td>\n",
       "      <td>690.217989</td>\n",
       "    </tr>\n",
       "    <tr>\n",
       "      <th>std</th>\n",
       "      <td>4.072239e+07</td>\n",
       "      <td>88694.614033</td>\n",
       "      <td>31.816650</td>\n",
       "      <td>1.628571e+08</td>\n",
       "      <td>22.611935</td>\n",
       "      <td>1.194612</td>\n",
       "      <td>1234.585891</td>\n",
       "    </tr>\n",
       "    <tr>\n",
       "      <th>min</th>\n",
       "      <td>0.000000e+00</td>\n",
       "      <td>5.000000</td>\n",
       "      <td>0.000000</td>\n",
       "      <td>0.000000e+00</td>\n",
       "      <td>0.000000</td>\n",
       "      <td>0.000000</td>\n",
       "      <td>0.000000</td>\n",
       "    </tr>\n",
       "    <tr>\n",
       "      <th>25%</th>\n",
       "      <td>7.900000e+05</td>\n",
       "      <td>9014.500000</td>\n",
       "      <td>4.668070</td>\n",
       "      <td>0.000000e+00</td>\n",
       "      <td>94.000000</td>\n",
       "      <td>5.600000</td>\n",
       "      <td>54.000000</td>\n",
       "    </tr>\n",
       "    <tr>\n",
       "      <th>50%</th>\n",
       "      <td>1.500000e+07</td>\n",
       "      <td>14629.000000</td>\n",
       "      <td>12.921594</td>\n",
       "      <td>1.917000e+07</td>\n",
       "      <td>103.000000</td>\n",
       "      <td>6.200000</td>\n",
       "      <td>235.000000</td>\n",
       "    </tr>\n",
       "    <tr>\n",
       "      <th>75%</th>\n",
       "      <td>4.000000e+07</td>\n",
       "      <td>58610.500000</td>\n",
       "      <td>28.313505</td>\n",
       "      <td>9.291719e+07</td>\n",
       "      <td>118.000000</td>\n",
       "      <td>6.800000</td>\n",
       "      <td>737.000000</td>\n",
       "    </tr>\n",
       "    <tr>\n",
       "      <th>max</th>\n",
       "      <td>3.800000e+08</td>\n",
       "      <td>459488.000000</td>\n",
       "      <td>875.581305</td>\n",
       "      <td>2.787965e+09</td>\n",
       "      <td>338.000000</td>\n",
       "      <td>10.000000</td>\n",
       "      <td>13752.000000</td>\n",
       "    </tr>\n",
       "  </tbody>\n",
       "</table>\n",
       "</div>"
      ],
      "text/plain": [
       "             budget             id   popularity       revenue      runtime  \\\n",
       "count  4.803000e+03    4803.000000  4803.000000  4.803000e+03  4801.000000   \n",
       "mean   2.904504e+07   57165.484281    21.492301  8.226064e+07   106.875859   \n",
       "std    4.072239e+07   88694.614033    31.816650  1.628571e+08    22.611935   \n",
       "min    0.000000e+00       5.000000     0.000000  0.000000e+00     0.000000   \n",
       "25%    7.900000e+05    9014.500000     4.668070  0.000000e+00    94.000000   \n",
       "50%    1.500000e+07   14629.000000    12.921594  1.917000e+07   103.000000   \n",
       "75%    4.000000e+07   58610.500000    28.313505  9.291719e+07   118.000000   \n",
       "max    3.800000e+08  459488.000000   875.581305  2.787965e+09   338.000000   \n",
       "\n",
       "       vote_average    vote_count  \n",
       "count   4803.000000   4803.000000  \n",
       "mean       6.092172    690.217989  \n",
       "std        1.194612   1234.585891  \n",
       "min        0.000000      0.000000  \n",
       "25%        5.600000     54.000000  \n",
       "50%        6.200000    235.000000  \n",
       "75%        6.800000    737.000000  \n",
       "max       10.000000  13752.000000  "
      ]
     },
     "execution_count": 3,
     "metadata": {},
     "output_type": "execute_result"
    }
   ],
   "source": [
    "dados_tmdb.describe()"
   ]
  },
  {
   "cell_type": "markdown",
   "id": "275c2da0",
   "metadata": {},
   "source": [
    "## Importando seaborn e visualizando os dados da Nota Média"
   ]
  },
  {
   "cell_type": "code",
   "execution_count": 4,
   "id": "5bbf2b3e",
   "metadata": {},
   "outputs": [
    {
     "name": "stderr",
     "output_type": "stream",
     "text": [
      "C:\\Users\\PC\\anaconda3\\lib\\site-packages\\seaborn\\distributions.py:2619: FutureWarning: `distplot` is a deprecated function and will be removed in a future version. Please adapt your code to use either `displot` (a figure-level function with similar flexibility) or `histplot` (an axes-level function for histograms).\n",
      "  warnings.warn(msg, FutureWarning)\n"
     ]
    },
    {
     "data": {
      "text/plain": [
       "Text(0.5, 1.0, 'Média de votos em filmes no TMDB 5000')"
      ]
     },
     "execution_count": 4,
     "metadata": {},
     "output_type": "execute_result"
    },
    {
     "data": {
      "image/png": "[encoded data removed]",
      "text/plain": [
       "<Figure size 432x288 with 1 Axes>"
      ]
     },
     "metadata": {
      "needs_background": "light"
     },
     "output_type": "display_data"
    }
   ],
   "source": [
    "import seaborn as sns\n",
    "ax = sns.distplot(dados_tmdb.vote_average)\n",
    "ax.set(xlabel= 'Nota Média', ylabel= 'Densidade')\n",
    "ax.set_title(\"Média de votos em filmes no TMDB 5000\")"
   ]
  },
  {
   "cell_type": "code",
   "execution_count": 5,
   "id": "0c9debe2",
   "metadata": {},
   "outputs": [
    {
     "name": "stderr",
     "output_type": "stream",
     "text": [
      "C:\\Users\\PC\\anaconda3\\lib\\site-packages\\seaborn\\distributions.py:2619: FutureWarning: `distplot` is a deprecated function and will be removed in a future version. Please adapt your code to use either `displot` (a figure-level function with similar flexibility) or `histplot` (an axes-level function for histograms).\n",
      "  warnings.warn(msg, FutureWarning)\n"
     ]
    },
    {
     "data": {
      "text/plain": [
       "Text(0.5, 1.0, 'Média de votos em filmes no TMDB 5000')"
      ]
     },
     "execution_count": 5,
     "metadata": {},
     "output_type": "execute_result"
    },
    {
     "data": {
      "image/png": "[encoded data removed]",
      "text/plain": [
       "<Figure size 432x288 with 1 Axes>"
      ]
     },
     "metadata": {
      "needs_background": "light"
     },
     "output_type": "display_data"
    }
   ],
   "source": [
    "\n",
    "ax = sns.distplot(dados_tmdb.vote_average, norm_hist = False, kde = False)\n",
    "ax.set(xlabel= 'Nota Média', ylabel= 'Frequencia')\n",
    "ax.set_title(\"Média de votos em filmes no TMDB 5000\")"
   ]
  },
  {
   "cell_type": "code",
   "execution_count": 6,
   "id": "05ac1fb9",
   "metadata": {},
   "outputs": [
    {
     "name": "stderr",
     "output_type": "stream",
     "text": [
      "C:\\Users\\PC\\anaconda3\\lib\\site-packages\\seaborn\\_decorators.py:36: FutureWarning: Pass the following variable as a keyword arg: x. From version 0.12, the only valid positional argument will be `data`, and passing other arguments without an explicit keyword will result in an error or misinterpretation.\n",
      "  warnings.warn(\n"
     ]
    },
    {
     "data": {
      "text/plain": [
       "Text(0.5, 1.0, 'Distribuição de nota média dos filmes do TMDB 5000')"
      ]
     },
     "execution_count": 6,
     "metadata": {},
     "output_type": "execute_result"
    },
    {
     "data": {
      "image/png": "[encoded data removed]",
      "text/plain": [
       "<Figure size 432x288 with 1 Axes>"
      ]
     },
     "metadata": {
      "needs_background": "light"
     },
     "output_type": "display_data"
    }
   ],
   "source": [
    "ax = sns.boxplot(dados_tmdb.vote_average)\n",
    "ax.set(xlabel='Nota  média do filme')\n",
    "ax.set_title('Distribuição de nota média dos filmes do TMDB 5000')"
   ]
  },
  {
   "cell_type": "code",
   "execution_count": 11,
   "id": "24981336",
   "metadata": {},
   "outputs": [
    {
     "data": {
      "text/html": [
       "<div>\n",
       "<style scoped>\n",
       "    .dataframe tbody tr th:only-of-type {\n",
       "        vertical-align: middle;\n",
       "    }\n",
       "\n",
       "    .dataframe tbody tr th {\n",
       "        vertical-align: top;\n",
       "    }\n",
       "\n",
       "    .dataframe thead th {\n",
       "        text-align: right;\n",
       "    }\n",
       "</style>\n",
       "<table border=\"1\" class=\"dataframe\">\n",
       "  <thead>\n",
       "    <tr style=\"text-align: right;\">\n",
       "      <th></th>\n",
       "      <th>budget</th>\n",
       "      <th>genres</th>\n",
       "      <th>homepage</th>\n",
       "      <th>id</th>\n",
       "      <th>keywords</th>\n",
       "      <th>original_language</th>\n",
       "      <th>original_title</th>\n",
       "      <th>overview</th>\n",
       "      <th>popularity</th>\n",
       "      <th>production_companies</th>\n",
       "      <th>production_countries</th>\n",
       "      <th>release_date</th>\n",
       "      <th>revenue</th>\n",
       "      <th>runtime</th>\n",
       "      <th>spoken_languages</th>\n",
       "      <th>status</th>\n",
       "      <th>tagline</th>\n",
       "      <th>title</th>\n",
       "      <th>vote_average</th>\n",
       "      <th>vote_count</th>\n",
       "    </tr>\n",
       "  </thead>\n",
       "  <tbody>\n",
       "    <tr>\n",
       "      <th>1464</th>\n",
       "      <td>0</td>\n",
       "      <td>[{\"id\": 18, \"name\": \"Drama\"}, {\"id\": 80, \"name...</td>\n",
       "      <td>NaN</td>\n",
       "      <td>310706</td>\n",
       "      <td>[]</td>\n",
       "      <td>en</td>\n",
       "      <td>Black Water Transit</td>\n",
       "      <td>In this action thriller set in post-Katrina Ne...</td>\n",
       "      <td>0.126738</td>\n",
       "      <td>[{\"name\": \"Capitol Films\", \"id\": 826}]</td>\n",
       "      <td>[{\"iso_3166_1\": \"US\", \"name\": \"United States o...</td>\n",
       "      <td>2009-05-13</td>\n",
       "      <td>0</td>\n",
       "      <td>100.0</td>\n",
       "      <td>[{\"iso_639_1\": \"en\", \"name\": \"English\"}]</td>\n",
       "      <td>Released</td>\n",
       "      <td>NaN</td>\n",
       "      <td>Black Water Transit</td>\n",
       "      <td>0.0</td>\n",
       "      <td>0</td>\n",
       "    </tr>\n",
       "    <tr>\n",
       "      <th>3669</th>\n",
       "      <td>0</td>\n",
       "      <td>[{\"id\": 35, \"name\": \"Comedy\"}, {\"id\": 18, \"nam...</td>\n",
       "      <td>http://www.romeothemovie.com/</td>\n",
       "      <td>113406</td>\n",
       "      <td>[]</td>\n",
       "      <td>en</td>\n",
       "      <td>Should've Been Romeo</td>\n",
       "      <td>A self-centered, middle-aged pitchman for a po...</td>\n",
       "      <td>0.407030</td>\n",
       "      <td>[{\"name\": \"Phillybrook Films\", \"id\": 65147}]</td>\n",
       "      <td>[{\"iso_3166_1\": \"US\", \"name\": \"United States o...</td>\n",
       "      <td>2012-04-28</td>\n",
       "      <td>0</td>\n",
       "      <td>0.0</td>\n",
       "      <td>[{\"iso_639_1\": \"en\", \"name\": \"English\"}]</td>\n",
       "      <td>Released</td>\n",
       "      <td>Even Shakespeare didn't see this one coming.</td>\n",
       "      <td>Should've Been Romeo</td>\n",
       "      <td>0.0</td>\n",
       "      <td>0</td>\n",
       "    </tr>\n",
       "    <tr>\n",
       "      <th>3670</th>\n",
       "      <td>0</td>\n",
       "      <td>[{\"id\": 10751, \"name\": \"Family\"}]</td>\n",
       "      <td>NaN</td>\n",
       "      <td>447027</td>\n",
       "      <td>[]</td>\n",
       "      <td>en</td>\n",
       "      <td>Running Forever</td>\n",
       "      <td>After being estranged since her mother's death...</td>\n",
       "      <td>0.028756</td>\n",
       "      <td>[{\"name\": \"New Kingdom Pictures\", \"id\": 41671}]</td>\n",
       "      <td>[{\"iso_3166_1\": \"US\", \"name\": \"United States o...</td>\n",
       "      <td>2015-10-27</td>\n",
       "      <td>0</td>\n",
       "      <td>88.0</td>\n",
       "      <td>[]</td>\n",
       "      <td>Released</td>\n",
       "      <td>NaN</td>\n",
       "      <td>Running Forever</td>\n",
       "      <td>0.0</td>\n",
       "      <td>0</td>\n",
       "    </tr>\n",
       "    <tr>\n",
       "      <th>3852</th>\n",
       "      <td>0</td>\n",
       "      <td>[{\"id\": 18, \"name\": \"Drama\"}]</td>\n",
       "      <td>NaN</td>\n",
       "      <td>395766</td>\n",
       "      <td>[{\"id\": 11162, \"name\": \"miniseries\"}]</td>\n",
       "      <td>en</td>\n",
       "      <td>The Secret</td>\n",
       "      <td>The Secret is the story of a real-life double ...</td>\n",
       "      <td>0.042346</td>\n",
       "      <td>[]</td>\n",
       "      <td>[]</td>\n",
       "      <td>2016-04-29</td>\n",
       "      <td>0</td>\n",
       "      <td>200.0</td>\n",
       "      <td>[]</td>\n",
       "      <td>Released</td>\n",
       "      <td>NaN</td>\n",
       "      <td>The Secret</td>\n",
       "      <td>0.0</td>\n",
       "      <td>0</td>\n",
       "    </tr>\n",
       "    <tr>\n",
       "      <th>3855</th>\n",
       "      <td>3500000</td>\n",
       "      <td>[{\"id\": 99, \"name\": \"Documentary\"}]</td>\n",
       "      <td>http://www.timetochoose.com</td>\n",
       "      <td>370662</td>\n",
       "      <td>[{\"id\": 2210, \"name\": \"climate change\"}, {\"id\"...</td>\n",
       "      <td>en</td>\n",
       "      <td>Time to Choose</td>\n",
       "      <td>Academy Award® winning director Charles Fergus...</td>\n",
       "      <td>1.618138</td>\n",
       "      <td>[{\"name\": \"Representational Pictures\", \"id\": 8...</td>\n",
       "      <td>[{\"iso_3166_1\": \"US\", \"name\": \"United States o...</td>\n",
       "      <td>2015-09-04</td>\n",
       "      <td>0</td>\n",
       "      <td>100.0</td>\n",
       "      <td>[{\"iso_639_1\": \"en\", \"name\": \"English\"}]</td>\n",
       "      <td>Released</td>\n",
       "      <td>Climate change for good.</td>\n",
       "      <td>Time to Choose</td>\n",
       "      <td>0.0</td>\n",
       "      <td>0</td>\n",
       "    </tr>\n",
       "  </tbody>\n",
       "</table>\n",
       "</div>"
      ],
      "text/plain": [
       "       budget                                             genres  \\\n",
       "1464        0  [{\"id\": 18, \"name\": \"Drama\"}, {\"id\": 80, \"name...   \n",
       "3669        0  [{\"id\": 35, \"name\": \"Comedy\"}, {\"id\": 18, \"nam...   \n",
       "3670        0                  [{\"id\": 10751, \"name\": \"Family\"}]   \n",
       "3852        0                      [{\"id\": 18, \"name\": \"Drama\"}]   \n",
       "3855  3500000                [{\"id\": 99, \"name\": \"Documentary\"}]   \n",
       "\n",
       "                           homepage      id  \\\n",
       "1464                            NaN  310706   \n",
       "3669  http://www.romeothemovie.com/  113406   \n",
       "3670                            NaN  447027   \n",
       "3852                            NaN  395766   \n",
       "3855    http://www.timetochoose.com  370662   \n",
       "\n",
       "                                               keywords original_language  \\\n",
       "1464                                                 []                en   \n",
       "3669                                                 []                en   \n",
       "3670                                                 []                en   \n",
       "3852              [{\"id\": 11162, \"name\": \"miniseries\"}]                en   \n",
       "3855  [{\"id\": 2210, \"name\": \"climate change\"}, {\"id\"...                en   \n",
       "\n",
       "            original_title                                           overview  \\\n",
       "1464   Black Water Transit  In this action thriller set in post-Katrina Ne...   \n",
       "3669  Should've Been Romeo  A self-centered, middle-aged pitchman for a po...   \n",
       "3670       Running Forever  After being estranged since her mother's death...   \n",
       "3852            The Secret  The Secret is the story of a real-life double ...   \n",
       "3855        Time to Choose  Academy Award® winning director Charles Fergus...   \n",
       "\n",
       "      popularity                               production_companies  \\\n",
       "1464    0.126738             [{\"name\": \"Capitol Films\", \"id\": 826}]   \n",
       "3669    0.407030       [{\"name\": \"Phillybrook Films\", \"id\": 65147}]   \n",
       "3670    0.028756    [{\"name\": \"New Kingdom Pictures\", \"id\": 41671}]   \n",
       "3852    0.042346                                                 []   \n",
       "3855    1.618138  [{\"name\": \"Representational Pictures\", \"id\": 8...   \n",
       "\n",
       "                                   production_countries release_date  revenue  \\\n",
       "1464  [{\"iso_3166_1\": \"US\", \"name\": \"United States o...   2009-05-13        0   \n",
       "3669  [{\"iso_3166_1\": \"US\", \"name\": \"United States o...   2012-04-28        0   \n",
       "3670  [{\"iso_3166_1\": \"US\", \"name\": \"United States o...   2015-10-27        0   \n",
       "3852                                                 []   2016-04-29        0   \n",
       "3855  [{\"iso_3166_1\": \"US\", \"name\": \"United States o...   2015-09-04        0   \n",
       "\n",
       "      runtime                          spoken_languages    status  \\\n",
       "1464    100.0  [{\"iso_639_1\": \"en\", \"name\": \"English\"}]  Released   \n",
       "3669      0.0  [{\"iso_639_1\": \"en\", \"name\": \"English\"}]  Released   \n",
       "3670     88.0                                        []  Released   \n",
       "3852    200.0                                        []  Released   \n",
       "3855    100.0  [{\"iso_639_1\": \"en\", \"name\": \"English\"}]  Released   \n",
       "\n",
       "                                           tagline                 title  \\\n",
       "1464                                           NaN   Black Water Transit   \n",
       "3669  Even Shakespeare didn't see this one coming.  Should've Been Romeo   \n",
       "3670                                           NaN       Running Forever   \n",
       "3852                                           NaN            The Secret   \n",
       "3855                      Climate change for good.        Time to Choose   \n",
       "\n",
       "      vote_average  vote_count  \n",
       "1464           0.0           0  \n",
       "3669           0.0           0  \n",
       "3670           0.0           0  \n",
       "3852           0.0           0  \n",
       "3855           0.0           0  "
      ]
     },
     "execution_count": 11,
     "metadata": {},
     "output_type": "execute_result"
    }
   ],
   "source": [
    "dados_tmdb.query('vote_average == 0').head()"
   ]
  },
  {
   "cell_type": "code",
   "execution_count": 12,
   "id": "dc8a758f",
   "metadata": {},
   "outputs": [
    {
     "data": {
      "text/html": [
       "<div>\n",
       "<style scoped>\n",
       "    .dataframe tbody tr th:only-of-type {\n",
       "        vertical-align: middle;\n",
       "    }\n",
       "\n",
       "    .dataframe tbody tr th {\n",
       "        vertical-align: top;\n",
       "    }\n",
       "\n",
       "    .dataframe thead th {\n",
       "        text-align: right;\n",
       "    }\n",
       "</style>\n",
       "<table border=\"1\" class=\"dataframe\">\n",
       "  <thead>\n",
       "    <tr style=\"text-align: right;\">\n",
       "      <th></th>\n",
       "      <th>budget</th>\n",
       "      <th>genres</th>\n",
       "      <th>homepage</th>\n",
       "      <th>id</th>\n",
       "      <th>keywords</th>\n",
       "      <th>original_language</th>\n",
       "      <th>original_title</th>\n",
       "      <th>overview</th>\n",
       "      <th>popularity</th>\n",
       "      <th>production_companies</th>\n",
       "      <th>production_countries</th>\n",
       "      <th>release_date</th>\n",
       "      <th>revenue</th>\n",
       "      <th>runtime</th>\n",
       "      <th>spoken_languages</th>\n",
       "      <th>status</th>\n",
       "      <th>tagline</th>\n",
       "      <th>title</th>\n",
       "      <th>vote_average</th>\n",
       "      <th>vote_count</th>\n",
       "    </tr>\n",
       "  </thead>\n",
       "  <tbody>\n",
       "    <tr>\n",
       "      <th>3519</th>\n",
       "      <td>0</td>\n",
       "      <td>[{\"id\": 35, \"name\": \"Comedy\"}]</td>\n",
       "      <td>NaN</td>\n",
       "      <td>89861</td>\n",
       "      <td>[{\"id\": 131, \"name\": \"italy\"}, {\"id\": 8250, \"n...</td>\n",
       "      <td>en</td>\n",
       "      <td>Stiff Upper Lips</td>\n",
       "      <td>Stiff Upper Lips is a broad parody of British ...</td>\n",
       "      <td>0.356495</td>\n",
       "      <td>[]</td>\n",
       "      <td>[{\"iso_3166_1\": \"GB\", \"name\": \"United Kingdom\"...</td>\n",
       "      <td>1998-06-12</td>\n",
       "      <td>0</td>\n",
       "      <td>99.0</td>\n",
       "      <td>[{\"iso_639_1\": \"en\", \"name\": \"English\"}]</td>\n",
       "      <td>Released</td>\n",
       "      <td>NaN</td>\n",
       "      <td>Stiff Upper Lips</td>\n",
       "      <td>10.0</td>\n",
       "      <td>1</td>\n",
       "    </tr>\n",
       "    <tr>\n",
       "      <th>4045</th>\n",
       "      <td>0</td>\n",
       "      <td>[{\"id\": 35, \"name\": \"Comedy\"}, {\"id\": 18, \"nam...</td>\n",
       "      <td>NaN</td>\n",
       "      <td>78373</td>\n",
       "      <td>[{\"id\": 1415, \"name\": \"small town\"}, {\"id\": 15...</td>\n",
       "      <td>en</td>\n",
       "      <td>Dancer, Texas Pop. 81</td>\n",
       "      <td>Four guys, best friends, have grown up togethe...</td>\n",
       "      <td>0.376662</td>\n",
       "      <td>[{\"name\": \"HSX Films\", \"id\": 4714}, {\"name\": \"...</td>\n",
       "      <td>[{\"iso_3166_1\": \"US\", \"name\": \"United States o...</td>\n",
       "      <td>1998-05-01</td>\n",
       "      <td>565592</td>\n",
       "      <td>97.0</td>\n",
       "      <td>[{\"iso_639_1\": \"en\", \"name\": \"English\"}]</td>\n",
       "      <td>Released</td>\n",
       "      <td>in the middle of nowhere they had everything</td>\n",
       "      <td>Dancer, Texas Pop. 81</td>\n",
       "      <td>10.0</td>\n",
       "      <td>1</td>\n",
       "    </tr>\n",
       "    <tr>\n",
       "      <th>4247</th>\n",
       "      <td>1</td>\n",
       "      <td>[{\"id\": 10749, \"name\": \"Romance\"}, {\"id\": 35, ...</td>\n",
       "      <td>NaN</td>\n",
       "      <td>361505</td>\n",
       "      <td>[]</td>\n",
       "      <td>en</td>\n",
       "      <td>Me You and Five Bucks</td>\n",
       "      <td>A womanizing yet lovable loser, Charlie, a wai...</td>\n",
       "      <td>0.094105</td>\n",
       "      <td>[]</td>\n",
       "      <td>[]</td>\n",
       "      <td>2015-07-07</td>\n",
       "      <td>0</td>\n",
       "      <td>90.0</td>\n",
       "      <td>[]</td>\n",
       "      <td>Released</td>\n",
       "      <td>A story about second, second chances</td>\n",
       "      <td>Me You and Five Bucks</td>\n",
       "      <td>10.0</td>\n",
       "      <td>2</td>\n",
       "    </tr>\n",
       "    <tr>\n",
       "      <th>4662</th>\n",
       "      <td>0</td>\n",
       "      <td>[{\"id\": 35, \"name\": \"Comedy\"}]</td>\n",
       "      <td>NaN</td>\n",
       "      <td>40963</td>\n",
       "      <td>[{\"id\": 10183, \"name\": \"independent film\"}]</td>\n",
       "      <td>en</td>\n",
       "      <td>Little Big Top</td>\n",
       "      <td>An aging out of work clown returns to his smal...</td>\n",
       "      <td>0.092100</td>\n",
       "      <td>[{\"name\": \"Fly High Films\", \"id\": 24248}]</td>\n",
       "      <td>[{\"iso_3166_1\": \"US\", \"name\": \"United States o...</td>\n",
       "      <td>2006-01-01</td>\n",
       "      <td>0</td>\n",
       "      <td>0.0</td>\n",
       "      <td>[{\"iso_639_1\": \"en\", \"name\": \"English\"}]</td>\n",
       "      <td>Rumored</td>\n",
       "      <td>NaN</td>\n",
       "      <td>Little Big Top</td>\n",
       "      <td>10.0</td>\n",
       "      <td>1</td>\n",
       "    </tr>\n",
       "  </tbody>\n",
       "</table>\n",
       "</div>"
      ],
      "text/plain": [
       "      budget                                             genres homepage  \\\n",
       "3519       0                     [{\"id\": 35, \"name\": \"Comedy\"}]      NaN   \n",
       "4045       0  [{\"id\": 35, \"name\": \"Comedy\"}, {\"id\": 18, \"nam...      NaN   \n",
       "4247       1  [{\"id\": 10749, \"name\": \"Romance\"}, {\"id\": 35, ...      NaN   \n",
       "4662       0                     [{\"id\": 35, \"name\": \"Comedy\"}]      NaN   \n",
       "\n",
       "          id                                           keywords  \\\n",
       "3519   89861  [{\"id\": 131, \"name\": \"italy\"}, {\"id\": 8250, \"n...   \n",
       "4045   78373  [{\"id\": 1415, \"name\": \"small town\"}, {\"id\": 15...   \n",
       "4247  361505                                                 []   \n",
       "4662   40963        [{\"id\": 10183, \"name\": \"independent film\"}]   \n",
       "\n",
       "     original_language         original_title  \\\n",
       "3519                en       Stiff Upper Lips   \n",
       "4045                en  Dancer, Texas Pop. 81   \n",
       "4247                en  Me You and Five Bucks   \n",
       "4662                en         Little Big Top   \n",
       "\n",
       "                                               overview  popularity  \\\n",
       "3519  Stiff Upper Lips is a broad parody of British ...    0.356495   \n",
       "4045  Four guys, best friends, have grown up togethe...    0.376662   \n",
       "4247  A womanizing yet lovable loser, Charlie, a wai...    0.094105   \n",
       "4662  An aging out of work clown returns to his smal...    0.092100   \n",
       "\n",
       "                                   production_companies  \\\n",
       "3519                                                 []   \n",
       "4045  [{\"name\": \"HSX Films\", \"id\": 4714}, {\"name\": \"...   \n",
       "4247                                                 []   \n",
       "4662          [{\"name\": \"Fly High Films\", \"id\": 24248}]   \n",
       "\n",
       "                                   production_countries release_date  revenue  \\\n",
       "3519  [{\"iso_3166_1\": \"GB\", \"name\": \"United Kingdom\"...   1998-06-12        0   \n",
       "4045  [{\"iso_3166_1\": \"US\", \"name\": \"United States o...   1998-05-01   565592   \n",
       "4247                                                 []   2015-07-07        0   \n",
       "4662  [{\"iso_3166_1\": \"US\", \"name\": \"United States o...   2006-01-01        0   \n",
       "\n",
       "      runtime                          spoken_languages    status  \\\n",
       "3519     99.0  [{\"iso_639_1\": \"en\", \"name\": \"English\"}]  Released   \n",
       "4045     97.0  [{\"iso_639_1\": \"en\", \"name\": \"English\"}]  Released   \n",
       "4247     90.0                                        []  Released   \n",
       "4662      0.0  [{\"iso_639_1\": \"en\", \"name\": \"English\"}]   Rumored   \n",
       "\n",
       "                                           tagline                  title  \\\n",
       "3519                                           NaN       Stiff Upper Lips   \n",
       "4045  in the middle of nowhere they had everything  Dancer, Texas Pop. 81   \n",
       "4247          A story about second, second chances  Me You and Five Bucks   \n",
       "4662                                           NaN         Little Big Top   \n",
       "\n",
       "      vote_average  vote_count  \n",
       "3519          10.0           1  \n",
       "4045          10.0           1  \n",
       "4247          10.0           2  \n",
       "4662          10.0           1  "
      ]
     },
     "execution_count": 12,
     "metadata": {},
     "output_type": "execute_result"
    }
   ],
   "source": [
    "dados_tmdb.query('vote_average == 10').head()"
   ]
  },
  {
   "cell_type": "code",
   "execution_count": 10,
   "id": "00fd697e",
   "metadata": {},
   "outputs": [
    {
     "data": {
      "text/html": [
       "<div>\n",
       "<style scoped>\n",
       "    .dataframe tbody tr th:only-of-type {\n",
       "        vertical-align: middle;\n",
       "    }\n",
       "\n",
       "    .dataframe tbody tr th {\n",
       "        vertical-align: top;\n",
       "    }\n",
       "\n",
       "    .dataframe thead th {\n",
       "        text-align: right;\n",
       "    }\n",
       "</style>\n",
       "<table border=\"1\" class=\"dataframe\">\n",
       "  <thead>\n",
       "    <tr style=\"text-align: right;\">\n",
       "      <th></th>\n",
       "      <th>budget</th>\n",
       "      <th>id</th>\n",
       "      <th>popularity</th>\n",
       "      <th>revenue</th>\n",
       "      <th>runtime</th>\n",
       "      <th>vote_average</th>\n",
       "      <th>vote_count</th>\n",
       "    </tr>\n",
       "  </thead>\n",
       "  <tbody>\n",
       "    <tr>\n",
       "      <th>count</th>\n",
       "      <td>4.392000e+03</td>\n",
       "      <td>4392.000000</td>\n",
       "      <td>4392.000000</td>\n",
       "      <td>4.392000e+03</td>\n",
       "      <td>4391.000000</td>\n",
       "      <td>4392.000000</td>\n",
       "      <td>4392.000000</td>\n",
       "    </tr>\n",
       "    <tr>\n",
       "      <th>mean</th>\n",
       "      <td>3.164545e+07</td>\n",
       "      <td>49204.119991</td>\n",
       "      <td>23.448815</td>\n",
       "      <td>8.990969e+07</td>\n",
       "      <td>108.430881</td>\n",
       "      <td>6.226935</td>\n",
       "      <td>754.441712</td>\n",
       "    </tr>\n",
       "    <tr>\n",
       "      <th>std</th>\n",
       "      <td>4.162736e+07</td>\n",
       "      <td>80136.249777</td>\n",
       "      <td>32.592158</td>\n",
       "      <td>1.682870e+08</td>\n",
       "      <td>21.014719</td>\n",
       "      <td>0.893215</td>\n",
       "      <td>1272.263761</td>\n",
       "    </tr>\n",
       "    <tr>\n",
       "      <th>min</th>\n",
       "      <td>0.000000e+00</td>\n",
       "      <td>5.000000</td>\n",
       "      <td>0.011697</td>\n",
       "      <td>0.000000e+00</td>\n",
       "      <td>0.000000</td>\n",
       "      <td>1.900000</td>\n",
       "      <td>10.000000</td>\n",
       "    </tr>\n",
       "    <tr>\n",
       "      <th>25%</th>\n",
       "      <td>2.895962e+06</td>\n",
       "      <td>8403.500000</td>\n",
       "      <td>6.512166</td>\n",
       "      <td>1.365700e+04</td>\n",
       "      <td>95.000000</td>\n",
       "      <td>5.700000</td>\n",
       "      <td>83.750000</td>\n",
       "    </tr>\n",
       "    <tr>\n",
       "      <th>50%</th>\n",
       "      <td>1.700000e+07</td>\n",
       "      <td>13084.500000</td>\n",
       "      <td>14.827784</td>\n",
       "      <td>2.685837e+07</td>\n",
       "      <td>105.000000</td>\n",
       "      <td>6.300000</td>\n",
       "      <td>288.500000</td>\n",
       "    </tr>\n",
       "    <tr>\n",
       "      <th>75%</th>\n",
       "      <td>4.200000e+07</td>\n",
       "      <td>46831.250000</td>\n",
       "      <td>30.258282</td>\n",
       "      <td>1.022818e+08</td>\n",
       "      <td>118.500000</td>\n",
       "      <td>6.800000</td>\n",
       "      <td>831.000000</td>\n",
       "    </tr>\n",
       "    <tr>\n",
       "      <th>max</th>\n",
       "      <td>3.800000e+08</td>\n",
       "      <td>417859.000000</td>\n",
       "      <td>875.581305</td>\n",
       "      <td>2.787965e+09</td>\n",
       "      <td>338.000000</td>\n",
       "      <td>8.500000</td>\n",
       "      <td>13752.000000</td>\n",
       "    </tr>\n",
       "  </tbody>\n",
       "</table>\n",
       "</div>"
      ],
      "text/plain": [
       "             budget             id   popularity       revenue      runtime  \\\n",
       "count  4.392000e+03    4392.000000  4392.000000  4.392000e+03  4391.000000   \n",
       "mean   3.164545e+07   49204.119991    23.448815  8.990969e+07   108.430881   \n",
       "std    4.162736e+07   80136.249777    32.592158  1.682870e+08    21.014719   \n",
       "min    0.000000e+00       5.000000     0.011697  0.000000e+00     0.000000   \n",
       "25%    2.895962e+06    8403.500000     6.512166  1.365700e+04    95.000000   \n",
       "50%    1.700000e+07   13084.500000    14.827784  2.685837e+07   105.000000   \n",
       "75%    4.200000e+07   46831.250000    30.258282  1.022818e+08   118.500000   \n",
       "max    3.800000e+08  417859.000000   875.581305  2.787965e+09   338.000000   \n",
       "\n",
       "       vote_average    vote_count  \n",
       "count   4392.000000   4392.000000  \n",
       "mean       6.226935    754.441712  \n",
       "std        0.893215   1272.263761  \n",
       "min        1.900000     10.000000  \n",
       "25%        5.700000     83.750000  \n",
       "50%        6.300000    288.500000  \n",
       "75%        6.800000    831.000000  \n",
       "max        8.500000  13752.000000  "
      ]
     },
     "execution_count": 10,
     "metadata": {},
     "output_type": "execute_result"
    }
   ],
   "source": [
    "dados_tmdb_mais_10_votos = dados_tmdb.query('vote_count >= 10')\n",
    "dados_tmdb_mais_10_votos.describe()"
   ]
  },
  {
   "cell_type": "code",
   "execution_count": 13,
   "id": "46759c9f",
   "metadata": {},
   "outputs": [
    {
     "name": "stderr",
     "output_type": "stream",
     "text": [
      "C:\\Users\\PC\\anaconda3\\lib\\site-packages\\seaborn\\distributions.py:2619: FutureWarning: `distplot` is a deprecated function and will be removed in a future version. Please adapt your code to use either `displot` (a figure-level function with similar flexibility) or `histplot` (an axes-level function for histograms).\n",
      "  warnings.warn(msg, FutureWarning)\n"
     ]
    },
    {
     "data": {
      "text/plain": [
       "Text(0.5, 1.0, 'Média de votos em filmes no TMBD 5000')"
      ]
     },
     "execution_count": 13,
     "metadata": {},
     "output_type": "execute_result"
    },
    {
     "data": {
      "image/png": "[encoded data removed]",
      "text/plain": [
       "<Figure size 432x288 with 1 Axes>"
      ]
     },
     "metadata": {
      "needs_background": "light"
     },
     "output_type": "display_data"
    }
   ],
   "source": [
    "ax = sns.distplot(dados_tmdb_mais_10_votos.vote_average, norm_hist= False, kde= False)\n",
    "ax.set(xlabel='Nota média', ylabel='Frequência')\n",
    "ax.set_title('Média de votos em filmes no TMBD 5000 dentre os filmes com mais de 9 votos')"
   ]
  },
  {
   "cell_type": "code",
   "execution_count": 14,
   "id": "bf5baee4",
   "metadata": {},
   "outputs": [
    {
     "data": {
      "text/plain": [
       "Text(0.5, 1.0, 'Média de votos em filmes no TMBD 5000')"
      ]
     },
     "execution_count": 14,
     "metadata": {},
     "output_type": "execute_result"
    },
    {
     "data": {
      "image/png": "[encoded data removed]",
      "text/plain": [
       "<Figure size 432x288 with 1 Axes>"
      ]
     },
     "metadata": {
      "needs_background": "light"
     },
     "output_type": "display_data"
    }
   ],
   "source": [
    "ax = sns.distplot(dados_tmdb_mais_10_votos.vote_average)\n",
    "ax.set(xlabel='Nota média', ylabel='Densidade')\n",
    "ax.set_title('Média de votos em filmes no TMBD 5000 dentre os filmes com mais de 9 votos')"
   ]
  },
  {
   "cell_type": "code",
   "execution_count": 15,
   "id": "9dc7481d",
   "metadata": {},
   "outputs": [
    {
     "name": "stderr",
     "output_type": "stream",
     "text": [
      "C:\\Users\\PC\\anaconda3\\lib\\site-packages\\seaborn\\_decorators.py:36: FutureWarning: Pass the following variable as a keyword arg: x. From version 0.12, the only valid positional argument will be `data`, and passing other arguments without an explicit keyword will result in an error or misinterpretation.\n",
      "  warnings.warn(\n"
     ]
    },
    {
     "data": {
      "text/plain": [
       "Text(0.5, 1.0, 'Distribuição de nota média dos filmes do TMDB 5000')"
      ]
     },
     "execution_count": 15,
     "metadata": {},
     "output_type": "execute_result"
    },
    {
     "data": {
      "image/png": "[encoded data removed]",
      "text/plain": [
       "<Figure size 432x288 with 1 Axes>"
      ]
     },
     "metadata": {
      "needs_background": "light"
     },
     "output_type": "display_data"
    }
   ],
   "source": [
    "ax = sns.boxplot(dados_tmdb_mais_10_votos.vote_average)\n",
    "ax.set(xlabel='Nota  média do filme')\n",
    "ax.set_title('Distribuição de nota média dos filmes do TMDB 5000 dentre os filmes com mais de 9 votos')"
   ]
  },
  {
   "cell_type": "markdown",
   "id": "b03151b5",
   "metadata": {},
   "source": [
    "# Analisando filmes do movielens para comparar"
   ]
  },
  {
   "cell_type": "code",
   "execution_count": 16,
   "id": "112d5eaf",
   "metadata": {},
   "outputs": [
    {
     "data": {
      "text/html": [
       "<div>\n",
       "<style scoped>\n",
       "    .dataframe tbody tr th:only-of-type {\n",
       "        vertical-align: middle;\n",
       "    }\n",
       "\n",
       "    .dataframe tbody tr th {\n",
       "        vertical-align: top;\n",
       "    }\n",
       "\n",
       "    .dataframe thead th {\n",
       "        text-align: right;\n",
       "    }\n",
       "</style>\n",
       "<table border=\"1\" class=\"dataframe\">\n",
       "  <thead>\n",
       "    <tr style=\"text-align: right;\">\n",
       "      <th></th>\n",
       "      <th>userId</th>\n",
       "      <th>movieId</th>\n",
       "      <th>rating</th>\n",
       "      <th>timestamp</th>\n",
       "    </tr>\n",
       "  </thead>\n",
       "  <tbody>\n",
       "    <tr>\n",
       "      <th>0</th>\n",
       "      <td>1</td>\n",
       "      <td>1</td>\n",
       "      <td>4.0</td>\n",
       "      <td>964982703</td>\n",
       "    </tr>\n",
       "    <tr>\n",
       "      <th>1</th>\n",
       "      <td>1</td>\n",
       "      <td>3</td>\n",
       "      <td>4.0</td>\n",
       "      <td>964981247</td>\n",
       "    </tr>\n",
       "    <tr>\n",
       "      <th>2</th>\n",
       "      <td>1</td>\n",
       "      <td>6</td>\n",
       "      <td>4.0</td>\n",
       "      <td>964982224</td>\n",
       "    </tr>\n",
       "    <tr>\n",
       "      <th>3</th>\n",
       "      <td>1</td>\n",
       "      <td>47</td>\n",
       "      <td>5.0</td>\n",
       "      <td>964983815</td>\n",
       "    </tr>\n",
       "    <tr>\n",
       "      <th>4</th>\n",
       "      <td>1</td>\n",
       "      <td>50</td>\n",
       "      <td>5.0</td>\n",
       "      <td>964982931</td>\n",
       "    </tr>\n",
       "  </tbody>\n",
       "</table>\n",
       "</div>"
      ],
      "text/plain": [
       "   userId  movieId  rating  timestamp\n",
       "0       1        1     4.0  964982703\n",
       "1       1        3     4.0  964981247\n",
       "2       1        6     4.0  964982224\n",
       "3       1       47     5.0  964983815\n",
       "4       1       50     5.0  964982931"
      ]
     },
     "execution_count": 16,
     "metadata": {},
     "output_type": "execute_result"
    }
   ],
   "source": [
    "notas = pd.read_csv(\"ratings.csv\")\n",
    "notas.head()"
   ]
  },
  {
   "cell_type": "code",
   "execution_count": 17,
   "id": "c32791ad",
   "metadata": {},
   "outputs": [
    {
     "data": {
      "text/plain": [
       "movieId\n",
       "1    3.920930\n",
       "2    3.431818\n",
       "3    3.259615\n",
       "4    2.357143\n",
       "5    3.071429\n",
       "Name: rating, dtype: float64"
      ]
     },
     "execution_count": 17,
     "metadata": {},
     "output_type": "execute_result"
    }
   ],
   "source": [
    "nota_media_por_filme = notas.groupby(\"movieId\").mean()[\"rating\"]\n",
    "nota_media_por_filme.head()"
   ]
  },
  {
   "cell_type": "code",
   "execution_count": 18,
   "id": "8162ddaf",
   "metadata": {},
   "outputs": [
    {
     "name": "stderr",
     "output_type": "stream",
     "text": [
      "C:\\Users\\PC\\anaconda3\\lib\\site-packages\\seaborn\\distributions.py:2619: FutureWarning: `distplot` is a deprecated function and will be removed in a future version. Please adapt your code to use either `displot` (a figure-level function with similar flexibility) or `histplot` (an axes-level function for histograms).\n",
      "  warnings.warn(msg, FutureWarning)\n"
     ]
    },
    {
     "data": {
      "text/plain": [
       "Text(0.5, 1.0, 'Média de votos em filmes no MovieLens')"
      ]
     },
     "execution_count": 18,
     "metadata": {},
     "output_type": "execute_result"
    },
    {
     "data": {
      "image/png": "[encoded data removed]",
      "text/plain": [
       "<Figure size 432x288 with 1 Axes>"
      ]
     },
     "metadata": {
      "needs_background": "light"
     },
     "output_type": "display_data"
    }
   ],
   "source": [
    "ax = sns.distplot(nota_media_por_filme.values)\n",
    "ax.set(xlabel='Nota média', ylabel='Densidade')\n",
    "ax.set_title('Média de votos em filmes no MovieLens')"
   ]
  },
  {
   "cell_type": "code",
   "execution_count": 19,
   "id": "5d8d0239",
   "metadata": {},
   "outputs": [
    {
     "data": {
      "text/html": [
       "<div>\n",
       "<style scoped>\n",
       "    .dataframe tbody tr th:only-of-type {\n",
       "        vertical-align: middle;\n",
       "    }\n",
       "\n",
       "    .dataframe tbody tr th {\n",
       "        vertical-align: top;\n",
       "    }\n",
       "\n",
       "    .dataframe thead th {\n",
       "        text-align: right;\n",
       "    }\n",
       "</style>\n",
       "<table border=\"1\" class=\"dataframe\">\n",
       "  <thead>\n",
       "    <tr style=\"text-align: right;\">\n",
       "      <th></th>\n",
       "      <th>userId</th>\n",
       "      <th>rating</th>\n",
       "      <th>timestamp</th>\n",
       "    </tr>\n",
       "    <tr>\n",
       "      <th>movieId</th>\n",
       "      <th></th>\n",
       "      <th></th>\n",
       "      <th></th>\n",
       "    </tr>\n",
       "  </thead>\n",
       "  <tbody>\n",
       "    <tr>\n",
       "      <th>1</th>\n",
       "      <td>215</td>\n",
       "      <td>215</td>\n",
       "      <td>215</td>\n",
       "    </tr>\n",
       "    <tr>\n",
       "      <th>2</th>\n",
       "      <td>110</td>\n",
       "      <td>110</td>\n",
       "      <td>110</td>\n",
       "    </tr>\n",
       "    <tr>\n",
       "      <th>3</th>\n",
       "      <td>52</td>\n",
       "      <td>52</td>\n",
       "      <td>52</td>\n",
       "    </tr>\n",
       "    <tr>\n",
       "      <th>5</th>\n",
       "      <td>49</td>\n",
       "      <td>49</td>\n",
       "      <td>49</td>\n",
       "    </tr>\n",
       "    <tr>\n",
       "      <th>6</th>\n",
       "      <td>102</td>\n",
       "      <td>102</td>\n",
       "      <td>102</td>\n",
       "    </tr>\n",
       "    <tr>\n",
       "      <th>...</th>\n",
       "      <td>...</td>\n",
       "      <td>...</td>\n",
       "      <td>...</td>\n",
       "    </tr>\n",
       "    <tr>\n",
       "      <th>174055</th>\n",
       "      <td>13</td>\n",
       "      <td>13</td>\n",
       "      <td>13</td>\n",
       "    </tr>\n",
       "    <tr>\n",
       "      <th>176371</th>\n",
       "      <td>18</td>\n",
       "      <td>18</td>\n",
       "      <td>18</td>\n",
       "    </tr>\n",
       "    <tr>\n",
       "      <th>177765</th>\n",
       "      <td>13</td>\n",
       "      <td>13</td>\n",
       "      <td>13</td>\n",
       "    </tr>\n",
       "    <tr>\n",
       "      <th>179819</th>\n",
       "      <td>12</td>\n",
       "      <td>12</td>\n",
       "      <td>12</td>\n",
       "    </tr>\n",
       "    <tr>\n",
       "      <th>187593</th>\n",
       "      <td>12</td>\n",
       "      <td>12</td>\n",
       "      <td>12</td>\n",
       "    </tr>\n",
       "  </tbody>\n",
       "</table>\n",
       "<p>2269 rows × 3 columns</p>\n",
       "</div>"
      ],
      "text/plain": [
       "         userId  rating  timestamp\n",
       "movieId                           \n",
       "1           215     215        215\n",
       "2           110     110        110\n",
       "3            52      52         52\n",
       "5            49      49         49\n",
       "6           102     102        102\n",
       "...         ...     ...        ...\n",
       "174055       13      13         13\n",
       "176371       18      18         18\n",
       "177765       13      13         13\n",
       "179819       12      12         12\n",
       "187593       12      12         12\n",
       "\n",
       "[2269 rows x 3 columns]"
      ]
     },
     "execution_count": 19,
     "metadata": {},
     "output_type": "execute_result"
    }
   ],
   "source": [
    "quantidade_de_votos_por_filme = notas.groupby(\"movieId\").count()\n",
    "quantidade_de_votos_por_filme.query(\"rating >= 10\")"
   ]
  },
  {
   "cell_type": "code",
   "execution_count": 20,
   "id": "13ecb570",
   "metadata": {},
   "outputs": [],
   "source": [
    "quantidade_de_votos_por_filme = notas.groupby(\"movieId\").count()\n",
    "filmes_com_pelo_menos_10_votos = quantidade_de_votos_por_filme.query(\"rating >= 10\").index"
   ]
  },
  {
   "cell_type": "code",
   "execution_count": 21,
   "id": "6f8a8bec",
   "metadata": {},
   "outputs": [
    {
     "data": {
      "text/plain": [
       "movieId\n",
       "1    3.920930\n",
       "2    3.431818\n",
       "3    3.259615\n",
       "5    3.071429\n",
       "6    3.946078\n",
       "Name: rating, dtype: float64"
      ]
     },
     "execution_count": 21,
     "metadata": {},
     "output_type": "execute_result"
    }
   ],
   "source": [
    "nota_media_dos_filmes_com_pelo_menos_10_votos = nota_media_por_filme.loc[filmes_com_pelo_menos_10_votos.values]\n",
    "nota_media_dos_filmes_com_pelo_menos_10_votos.head()"
   ]
  },
  {
   "cell_type": "code",
   "execution_count": 22,
   "id": "848dbde0",
   "metadata": {},
   "outputs": [
    {
     "name": "stderr",
     "output_type": "stream",
     "text": [
      "C:\\Users\\PC\\anaconda3\\lib\\site-packages\\seaborn\\distributions.py:2619: FutureWarning: `distplot` is a deprecated function and will be removed in a future version. Please adapt your code to use either `displot` (a figure-level function with similar flexibility) or `histplot` (an axes-level function for histograms).\n",
      "  warnings.warn(msg, FutureWarning)\n"
     ]
    },
    {
     "data": {
      "text/plain": [
       "Text(0.5, 1.0, 'Média de votos em filmes no MovieLens')"
      ]
     },
     "execution_count": 22,
     "metadata": {},
     "output_type": "execute_result"
    },
    {
     "data": {
      "image/png": "[encoded data removed]",
      "text/plain": [
       "<Figure size 432x288 with 1 Axes>"
      ]
     },
     "metadata": {
      "needs_background": "light"
     },
     "output_type": "display_data"
    }
   ],
   "source": [
    "ax = sns.distplot(nota_media_dos_filmes_com_pelo_menos_10_votos)\n",
    "ax.set(xlabel='Nota média', ylabel='Densidade')\n",
    "ax.set_title('Média de votos em filmes no MovieLens')"
   ]
  },
  {
   "cell_type": "code",
   "execution_count": 23,
   "id": "9349a6f7",
   "metadata": {},
   "outputs": [
    {
     "data": {
      "text/plain": [
       "Text(0.5, 1.0, 'Distribuição de nota média dos filmes do MovieLens')"
      ]
     },
     "execution_count": 23,
     "metadata": {},
     "output_type": "execute_result"
    },
    {
     "data": {
      "image/png": "[encoded data removed]",
      "text/plain": [
       "<Figure size 432x288 with 1 Axes>"
      ]
     },
     "metadata": {
      "needs_background": "light"
     },
     "output_type": "display_data"
    }
   ],
   "source": [
    "ax = sns.boxplot(x=nota_media_dos_filmes_com_pelo_menos_10_votos.values)\n",
    "ax.set(xlabel='Nota  média do filme')\n",
    "ax.set_title('Distribuição de nota média dos filmes do MovieLens')"
   ]
  },
  {
   "cell_type": "code",
   "execution_count": 24,
   "id": "fe9749a6",
   "metadata": {},
   "outputs": [
    {
     "name": "stderr",
     "output_type": "stream",
     "text": [
      "C:\\Users\\PC\\anaconda3\\lib\\site-packages\\seaborn\\distributions.py:2619: FutureWarning: `distplot` is a deprecated function and will be removed in a future version. Please adapt your code to use either `displot` (a figure-level function with similar flexibility) or `histplot` (an axes-level function for histograms).\n",
      "  warnings.warn(msg, FutureWarning)\n"
     ]
    },
    {
     "data": {
      "text/plain": [
       "Text(0.5, 1.0, 'Média de votos em filmes no MovieLens')"
      ]
     },
     "execution_count": 24,
     "metadata": {},
     "output_type": "execute_result"
    },
    {
     "data": {
      "image/png": "[encoded data removed]",
      "text/plain": [
       "<Figure size 432x288 with 1 Axes>"
      ]
     },
     "metadata": {
      "needs_background": "light"
     },
     "output_type": "display_data"
    }
   ],
   "source": [
    "ax = sns.distplot(nota_media_dos_filmes_com_pelo_menos_10_votos, \n",
    "                  hist_kws = {'cumulative':True}, \n",
    "                  kde_kws = {'cumulative':True})\n",
    "ax.set(xlabel='Nota média', ylabel='Proporção acumulada de filmes')\n",
    "ax.set_title('Média de votos em filmes no MovieLens')"
   ]
  },
  {
   "cell_type": "code",
   "execution_count": 25,
   "id": "0e57e630",
   "metadata": {},
   "outputs": [
    {
     "name": "stderr",
     "output_type": "stream",
     "text": [
      "C:\\Users\\PC\\anaconda3\\lib\\site-packages\\seaborn\\distributions.py:2619: FutureWarning: `distplot` is a deprecated function and will be removed in a future version. Please adapt your code to use either `displot` (a figure-level function with similar flexibility) or `histplot` (an axes-level function for histograms).\n",
      "  warnings.warn(msg, FutureWarning)\n"
     ]
    },
    {
     "data": {
      "text/plain": [
       "Text(0.5, 1.0, 'Média de votos em filmes no TMDB 5000')"
      ]
     },
     "execution_count": 25,
     "metadata": {},
     "output_type": "execute_result"
    },
    {
     "data": {
      "image/png": "[encoded data removed]",
      "text/plain": [
       "<Figure size 432x288 with 1 Axes>"
      ]
     },
     "metadata": {
      "needs_background": "light"
     },
     "output_type": "display_data"
    }
   ],
   "source": [
    "ax = sns.distplot(tmdb_com_mais_de_10_votos.vote_average, \n",
    "                  hist_kws = {'cumulative':True}, \n",
    "                  kde_kws = {'cumulative':True})\n",
    "ax.set(xlabel='Nota média', ylabel='Proporção acumulada de filmes')\n",
    "ax.set_title('Média de votos em filmes no TMDB 5000')"
   ]
  },
  {
   "cell_type": "markdown",
   "id": "eab8488a",
   "metadata": {},
   "source": [
    "# Analisando a distribuição dos dados de outros campos do TMDB"
   ]
  },
  {
   "cell_type": "code",
   "execution_count": 26,
   "id": "18e04ff9",
   "metadata": {},
   "outputs": [
    {
     "name": "stderr",
     "output_type": "stream",
     "text": [
      "C:\\Users\\PC\\anaconda3\\lib\\site-packages\\seaborn\\distributions.py:2619: FutureWarning: `distplot` is a deprecated function and will be removed in a future version. Please adapt your code to use either `displot` (a figure-level function with similar flexibility) or `histplot` (an axes-level function for histograms).\n",
      "  warnings.warn(msg, FutureWarning)\n"
     ]
    },
    {
     "data": {
      "text/plain": [
       "Text(0.5, 1.0, 'Número de votos em filmes no TMDB 5000 com 10 ou mais votos')"
      ]
     },
     "execution_count": 26,
     "metadata": {},
     "output_type": "execute_result"
    },
    {
     "data": {
      "image/png": "[encoded data removed]",
      "text/plain": [
       "<Figure size 432x288 with 1 Axes>"
      ]
     },
     "metadata": {
      "needs_background": "light"
     },
     "output_type": "display_data"
    }
   ],
   "source": [
    "ax = sns.distplot(tmdb_com_mais_de_10_votos.vote_count)\n",
    "ax.set(xlabel='Número de votos', ylabel='Densidade')\n",
    "ax.set_title('Número de votos em filmes no TMDB 5000 com 10 ou mais votos')"
   ]
  },
  {
   "cell_type": "code",
   "execution_count": 28,
   "id": "21abb0d2",
   "metadata": {},
   "outputs": [
    {
     "name": "stderr",
     "output_type": "stream",
     "text": [
      "C:\\Users\\PC\\anaconda3\\lib\\site-packages\\seaborn\\distributions.py:2619: FutureWarning: `distplot` is a deprecated function and will be removed in a future version. Please adapt your code to use either `displot` (a figure-level function with similar flexibility) or `histplot` (an axes-level function for histograms).\n",
      "  warnings.warn(msg, FutureWarning)\n"
     ]
    },
    {
     "data": {
      "text/plain": [
       "Text(0.5, 1.0, 'Gastos em filmes no TMDB 5000')"
      ]
     },
     "execution_count": 28,
     "metadata": {},
     "output_type": "execute_result"
    },
    {
     "data": {
      "image/png": "[encoded data removed]",
      "text/plain": [
       "<Figure size 432x288 with 1 Axes>"
      ]
     },
     "metadata": {
      "needs_background": "light"
     },
     "output_type": "display_data"
    }
   ],
   "source": [
    "ax = sns.distplot(dados_tmdb.query(\"budget > 0\").budget)\n",
    "ax.set(xlabel='Gastos', ylabel='Densidade')\n",
    "ax.set_title('Gastos em filmes no TMDB 5000')"
   ]
  },
  {
   "cell_type": "code",
   "execution_count": 29,
   "id": "ec69e2a4",
   "metadata": {},
   "outputs": [
    {
     "data": {
      "text/html": [
       "<div>\n",
       "<style scoped>\n",
       "    .dataframe tbody tr th:only-of-type {\n",
       "        vertical-align: middle;\n",
       "    }\n",
       "\n",
       "    .dataframe tbody tr th {\n",
       "        vertical-align: top;\n",
       "    }\n",
       "\n",
       "    .dataframe thead th {\n",
       "        text-align: right;\n",
       "    }\n",
       "</style>\n",
       "<table border=\"1\" class=\"dataframe\">\n",
       "  <thead>\n",
       "    <tr style=\"text-align: right;\">\n",
       "      <th></th>\n",
       "      <th>budget</th>\n",
       "      <th>genres</th>\n",
       "      <th>homepage</th>\n",
       "      <th>id</th>\n",
       "      <th>keywords</th>\n",
       "      <th>original_language</th>\n",
       "      <th>original_title</th>\n",
       "      <th>overview</th>\n",
       "      <th>popularity</th>\n",
       "      <th>production_companies</th>\n",
       "      <th>production_countries</th>\n",
       "      <th>release_date</th>\n",
       "      <th>revenue</th>\n",
       "      <th>runtime</th>\n",
       "      <th>spoken_languages</th>\n",
       "      <th>status</th>\n",
       "      <th>tagline</th>\n",
       "      <th>title</th>\n",
       "      <th>vote_average</th>\n",
       "      <th>vote_count</th>\n",
       "    </tr>\n",
       "  </thead>\n",
       "  <tbody>\n",
       "    <tr>\n",
       "      <th>4553</th>\n",
       "      <td>0</td>\n",
       "      <td>[]</td>\n",
       "      <td>NaN</td>\n",
       "      <td>380097</td>\n",
       "      <td>[]</td>\n",
       "      <td>en</td>\n",
       "      <td>America Is Still the Place</td>\n",
       "      <td>1971 post civil rights San Francisco seemed li...</td>\n",
       "      <td>0.0</td>\n",
       "      <td>[]</td>\n",
       "      <td>[]</td>\n",
       "      <td>NaN</td>\n",
       "      <td>0</td>\n",
       "      <td>0.0</td>\n",
       "      <td>[]</td>\n",
       "      <td>Released</td>\n",
       "      <td>NaN</td>\n",
       "      <td>America Is Still the Place</td>\n",
       "      <td>0.0</td>\n",
       "      <td>0</td>\n",
       "    </tr>\n",
       "  </tbody>\n",
       "</table>\n",
       "</div>"
      ],
      "text/plain": [
       "      budget genres homepage      id keywords original_language  \\\n",
       "4553       0     []      NaN  380097       []                en   \n",
       "\n",
       "                  original_title  \\\n",
       "4553  America Is Still the Place   \n",
       "\n",
       "                                               overview  popularity  \\\n",
       "4553  1971 post civil rights San Francisco seemed li...         0.0   \n",
       "\n",
       "     production_companies production_countries release_date  revenue  runtime  \\\n",
       "4553                   []                   []          NaN        0      0.0   \n",
       "\n",
       "     spoken_languages    status tagline                       title  \\\n",
       "4553               []  Released     NaN  America Is Still the Place   \n",
       "\n",
       "      vote_average  vote_count  \n",
       "4553           0.0           0  "
      ]
     },
     "execution_count": 29,
     "metadata": {},
     "output_type": "execute_result"
    }
   ],
   "source": [
    "dados_tmdb.query(\"popularity == 0\")"
   ]
  },
  {
   "cell_type": "code",
   "execution_count": 30,
   "id": "c20b579b",
   "metadata": {},
   "outputs": [
    {
     "name": "stderr",
     "output_type": "stream",
     "text": [
      "C:\\Users\\PC\\anaconda3\\lib\\site-packages\\seaborn\\distributions.py:2619: FutureWarning: `distplot` is a deprecated function and will be removed in a future version. Please adapt your code to use either `displot` (a figure-level function with similar flexibility) or `histplot` (an axes-level function for histograms).\n",
      "  warnings.warn(msg, FutureWarning)\n"
     ]
    },
    {
     "data": {
      "text/plain": [
       "Text(0.5, 1.0, 'Popularidade dos filmes no TMDB 5000')"
      ]
     },
     "execution_count": 30,
     "metadata": {},
     "output_type": "execute_result"
    },
    {
     "data": {
      "image/png": "[encoded data removed]",
      "text/plain": [
       "<Figure size 432x288 with 1 Axes>"
      ]
     },
     "metadata": {
      "needs_background": "light"
     },
     "output_type": "display_data"
    }
   ],
   "source": [
    "ax = sns.distplot(dados_tmdb.popularity)\n",
    "ax.set(xlabel='Popularidade', ylabel='Densidade')\n",
    "ax.set_title('Popularidade dos filmes no TMDB 5000')"
   ]
  },
  {
   "cell_type": "code",
   "execution_count": 31,
   "id": "124e06c0",
   "metadata": {},
   "outputs": [
    {
     "name": "stderr",
     "output_type": "stream",
     "text": [
      "C:\\Users\\PC\\anaconda3\\lib\\site-packages\\seaborn\\distributions.py:2619: FutureWarning: `distplot` is a deprecated function and will be removed in a future version. Please adapt your code to use either `displot` (a figure-level function with similar flexibility) or `histplot` (an axes-level function for histograms).\n",
      "  warnings.warn(msg, FutureWarning)\n"
     ]
    },
    {
     "data": {
      "text/plain": [
       "Text(0.5, 1.0, 'Duração dos filmes no TMDB 5000')"
      ]
     },
     "execution_count": 31,
     "metadata": {},
     "output_type": "execute_result"
    },
    {
     "data": {
      "image/png": "[encoded data removed]",
      "text/plain": [
       "<Figure size 432x288 with 1 Axes>"
      ]
     },
     "metadata": {
      "needs_background": "light"
     },
     "output_type": "display_data"
    }
   ],
   "source": [
    "ax = sns.distplot(dados_tmdb.runtime.dropna())\n",
    "ax.set(xlabel='Duração', ylabel='Densidade')\n",
    "ax.set_title('Duração dos filmes no TMDB 5000')"
   ]
  },
  {
   "cell_type": "code",
   "execution_count": 32,
   "id": "a6b39494",
   "metadata": {},
   "outputs": [
    {
     "name": "stderr",
     "output_type": "stream",
     "text": [
      "C:\\Users\\PC\\anaconda3\\lib\\site-packages\\seaborn\\distributions.py:2619: FutureWarning: `distplot` is a deprecated function and will be removed in a future version. Please adapt your code to use either `displot` (a figure-level function with similar flexibility) or `histplot` (an axes-level function for histograms).\n",
      "  warnings.warn(msg, FutureWarning)\n"
     ]
    },
    {
     "data": {
      "text/plain": [
       "Text(0.5, 1.0, 'Duração dos filmes no TMDB 5000')"
      ]
     },
     "execution_count": 32,
     "metadata": {},
     "output_type": "execute_result"
    },
    {
     "data": {
      "image/png": "[encoded data removed]",
      "text/plain": [
       "<Figure size 432x288 with 1 Axes>"
      ]
     },
     "metadata": {
      "needs_background": "light"
     },
     "output_type": "display_data"
    }
   ],
   "source": [
    "ax = sns.distplot(dados_tmdb.query(\"runtime>0\").runtime.dropna())\n",
    "ax.set(xlabel='Tempo de duração', ylabel='Densidade')\n",
    "ax.set_title('Duração dos filmes no TMDB 5000')"
   ]
  },
  {
   "cell_type": "code",
   "execution_count": 33,
   "id": "4097a760",
   "metadata": {},
   "outputs": [
    {
     "name": "stderr",
     "output_type": "stream",
     "text": [
      "C:\\Users\\PC\\anaconda3\\lib\\site-packages\\seaborn\\distributions.py:2619: FutureWarning: `distplot` is a deprecated function and will be removed in a future version. Please adapt your code to use either `displot` (a figure-level function with similar flexibility) or `histplot` (an axes-level function for histograms).\n",
      "  warnings.warn(msg, FutureWarning)\n"
     ]
    },
    {
     "data": {
      "text/plain": [
       "Text(0.5, 1.0, 'Duração dos filmes no TMDB 5000')"
      ]
     },
     "execution_count": 33,
     "metadata": {},
     "output_type": "execute_result"
    },
    {
     "data": {
      "image/png": "[encoded data removed]",
      "text/plain": [
       "<Figure size 432x288 with 1 Axes>"
      ]
     },
     "metadata": {
      "needs_background": "light"
     },
     "output_type": "display_data"
    }
   ],
   "source": [
    "ax = sns.distplot(dados_tmdb.query(\"runtime>0\").runtime.dropna(),\n",
    "                 hist_kws={'cumulative':True},\n",
    "                 kde_kws={'cumulative':True})\n",
    "ax.set(xlabel='Tempo de duração', ylabel='Densidade')\n",
    "ax.set_title('Duração dos filmes no TMDB 5000')"
   ]
  },
  {
   "cell_type": "code",
   "execution_count": 34,
   "id": "021b3adc",
   "metadata": {},
   "outputs": [
    {
     "data": {
      "text/plain": [
       "121.0"
      ]
     },
     "execution_count": 34,
     "metadata": {},
     "output_type": "execute_result"
    }
   ],
   "source": [
    "dados_tmdb.query(\"runtime>0\").runtime.dropna().quantile(q=0.8)"
   ]
  },
  {
   "cell_type": "markdown",
   "id": "6265aaaa",
   "metadata": {},
   "source": [
    "# MovieLens: média dos filmes com pelo menos 10 votos"
   ]
  },
  {
   "cell_type": "code",
   "execution_count": 35,
   "id": "65eb7780",
   "metadata": {},
   "outputs": [
    {
     "data": {
      "text/plain": [
       "3.4320503405352603"
      ]
     },
     "execution_count": 35,
     "metadata": {},
     "output_type": "execute_result"
    }
   ],
   "source": [
    "nota_media_dos_filmes_com_pelo_menos_10_votos.mean()"
   ]
  },
  {
   "cell_type": "code",
   "execution_count": 36,
   "id": "28565b72",
   "metadata": {},
   "outputs": [
    {
     "data": {
      "text/plain": [
       "3.5259741603585653"
      ]
     },
     "execution_count": 36,
     "metadata": {},
     "output_type": "execute_result"
    }
   ],
   "source": [
    "nota_media_dos_filmes_com_pelo_menos_10_votos[0:5].mean()"
   ]
  },
  {
   "cell_type": "code",
   "execution_count": 37,
   "id": "ac203a57",
   "metadata": {},
   "outputs": [
    {
     "data": {
      "text/plain": [
       "2269"
      ]
     },
     "execution_count": 37,
     "metadata": {},
     "output_type": "execute_result"
    }
   ],
   "source": [
    "len(nota_media_dos_filmes_com_pelo_menos_10_votos)"
   ]
  },
  {
   "cell_type": "code",
   "execution_count": 42,
   "id": "0cf7d93a",
   "metadata": {},
   "outputs": [
    {
     "data": {
      "text/plain": [
       "[3.9209302325581397,\n",
       " 3.676374207188161,\n",
       " 3.5374545996639024,\n",
       " 3.4209480926050695,\n",
       " 3.5259741603585653,\n",
       " 3.469175997829668,\n",
       " 3.420007998139716,\n",
       " 3.4295335135237663,\n",
       " 3.4564107421798558,\n",
       " 3.352874931119765,\n",
       " 3.396552967684635,\n",
       " 3.363506887044249,\n",
       " 3.406839377909513,\n",
       " 3.4332165225577675,\n",
       " 3.451002087720583,\n",
       " 3.405769002692592,\n",
       " 3.3524884731224396,\n",
       " 3.3603714480862994,\n",
       " 3.3531004361987162,\n",
       " 3.3416954143887807,\n",
       " 3.331376585132172,\n",
       " 3.3447231039898004,\n",
       " 3.3514742733815486,\n",
       " 3.3879658756270143,\n",
       " 3.412973556391407,\n",
       " 3.404174978311576,\n",
       " 3.425614825316986,\n",
       " 3.4337122869128076,\n",
       " 3.4475781010027933,\n",
       " 3.4424344719950075,\n",
       " 3.4507430374145236,\n",
       " 3.4223910131474935,\n",
       " 3.4190609824460543,\n",
       " 3.4086964437466603,\n",
       " 3.4248871013004156,\n",
       " 3.4171696491401096,\n",
       " 3.4393473639752203,\n",
       " 3.4400036363518125,\n",
       " 3.4550555181639973,\n",
       " 3.4495614831510744,\n",
       " 3.455822178683975,\n",
       " 3.433832556918074,\n",
       " 3.441766683501375,\n",
       " 3.4432967795375005,\n",
       " 3.4437021502486327,\n",
       " 3.4427521035040973,\n",
       " 3.4283255881604555,\n",
       " 3.4216342812642555,\n",
       " 3.432757391170427,\n",
       " 3.427227243347019,\n",
       " 3.4237521993598223,\n",
       " 3.433872349372133,\n",
       " 3.4261353149275555,\n",
       " 3.4349105868733414,\n",
       " 3.4231070177613585,\n",
       " 3.4295266905808375,\n",
       " 3.4296998002091375,\n",
       " 3.4271637466822935,\n",
       " 3.425464752279595,\n",
       " 3.435567765901939,\n",
       " 3.4465546751620586,\n",
       " 3.448117958802502,\n",
       " 3.4355486261230976,\n",
       " 3.4378577621732576,\n",
       " 3.430377072035604,\n",
       " 3.43143196488355,\n",
       " 3.432368592967551,\n",
       " 3.4309121920905774,\n",
       " 3.42821923335326,\n",
       " 3.4287684824005944,\n",
       " 3.434641759328454,\n",
       " 3.436180825802427,\n",
       " 3.429055860985416,\n",
       " 3.4350821331342614,\n",
       " 3.427462856207623,\n",
       " 3.4192916556378283,\n",
       " 3.412454843783534,\n",
       " 3.405592512228055,\n",
       " 3.4085080795428526,\n",
       " 3.4184752579603312,\n",
       " 3.4202299592275627,\n",
       " 3.419025064254404,\n",
       " 3.420670009932731,\n",
       " 3.416654097116071,\n",
       " 3.404693460679411,\n",
       " 3.402645530073505,\n",
       " 3.394330584705061,\n",
       " 3.3860922239551132,\n",
       " 3.378383322562359,\n",
       " 3.3850123967561108,\n",
       " 3.3951517364367287,\n",
       " 3.3952346281904355,\n",
       " 3.383078405116914,\n",
       " 3.379430534545761,\n",
       " 3.3735724938312446,\n",
       " 3.3744554192427247,\n",
       " 3.36514586411062,\n",
       " 3.3682226069938452,\n",
       " 3.3655132877312814,\n",
       " 3.3585248215206356,\n",
       " 3.357450318337263,\n",
       " 3.358179415038056,\n",
       " 3.351951135927654,\n",
       " 3.3526878695107674,\n",
       " 3.3485007800702924,\n",
       " 3.3550400808872394,\n",
       " 3.3547736372550676,\n",
       " 3.355456950137627,\n",
       " 3.3590766111455386,\n",
       " 3.363591998596663,\n",
       " 3.36583441302372,\n",
       " 3.3673757266437008,\n",
       " 3.3629178561746094,\n",
       " 3.3632065884303874,\n",
       " 3.3605713170174263,\n",
       " 3.3651599879298377,\n",
       " 3.3663124666654802,\n",
       " 3.359718592321854,\n",
       " 3.36239802792059,\n",
       " 3.3633595258360667,\n",
       " 3.363173985051546,\n",
       " 3.3601971491085005,\n",
       " 3.367781753166772,\n",
       " 3.3723042505490675,\n",
       " 3.3707375812505576,\n",
       " 3.37352714189319,\n",
       " 3.3741567578790153,\n",
       " 3.3748173738044156,\n",
       " 3.370582909112687,\n",
       " 3.3715784251964354,\n",
       " 3.3656885135537147,\n",
       " 3.372244477066271,\n",
       " 3.376069348524062,\n",
       " 3.380014815361658,\n",
       " 3.3841583644285635,\n",
       " 3.3842532207454816,\n",
       " 3.38101908388302,\n",
       " 3.3837512971601647,\n",
       " 3.380605090500225,\n",
       " 3.379672196996652,\n",
       " 3.3785658992202667,\n",
       " 3.3834839075139485,\n",
       " 3.3862967073615033,\n",
       " 3.3859578413381595,\n",
       " 3.3849077572749575,\n",
       " 3.389365336236871,\n",
       " 3.389612800441092,\n",
       " 3.3938640449819037,\n",
       " 3.3992546782632926,\n",
       " 3.400049770531661,\n",
       " 3.397090003839398,\n",
       " 3.4024956617088757,\n",
       " 3.40572009093518,\n",
       " 3.40974138904599,\n",
       " 3.4119366058908547,\n",
       " 3.4098020594968173,\n",
       " 3.4095803903280477,\n",
       " 3.408277373324096,\n",
       " 3.414697151366202,\n",
       " 3.4158552941701634,\n",
       " 3.4166884911007833,\n",
       " 3.4130270153024127,\n",
       " 3.411413352631846,\n",
       " 3.411304237789691,\n",
       " 3.4078013838232892,\n",
       " 3.4100435441617027,\n",
       " 3.412176419742973,\n",
       " 3.408783139049014,\n",
       " 3.409141746244594,\n",
       " 3.4083393081650804,\n",
       " 3.406187456484626,\n",
       " 3.4072981237272866,\n",
       " 3.4083156682914835,\n",
       " 3.409443425683748,\n",
       " 3.409309262750016,\n",
       " 3.407986315735727,\n",
       " 3.4091241049123617,\n",
       " 3.4032140979024206,\n",
       " 3.407465045615825,\n",
       " 3.4080870035608934,\n",
       " 3.4061573711070303,\n",
       " 3.406834593049881,\n",
       " 3.4097582316950525,\n",
       " 3.407078386232942,\n",
       " 3.4058764132035537,\n",
       " 3.406382453992782,\n",
       " 3.404531985402372,\n",
       " 3.4040266227647202,\n",
       " 3.4006291526014407,\n",
       " 3.401869860410715,\n",
       " 3.395577348052544,\n",
       " 3.3948191326981036,\n",
       " 3.395515612663823,\n",
       " 3.390899552804731,\n",
       " 3.3914446372069422,\n",
       " 3.393621867722121,\n",
       " 3.3924169343834296,\n",
       " 3.390916031155423,\n",
       " 3.3864390661747423,\n",
       " 3.381590204177202,\n",
       " 3.3801951806548796,\n",
       " 3.3807882738199546,\n",
       " 3.377870408128534,\n",
       " 3.373720308088688,\n",
       " 3.375274392889757,\n",
       " 3.37187500263301,\n",
       " 3.3687274856301976,\n",
       " 3.3679563598980016,\n",
       " 3.3654780998027958,\n",
       " 3.361555188216433,\n",
       " 3.363264510652479,\n",
       " 3.3650325801215484,\n",
       " 3.361654279489309,\n",
       " 3.360126238301726,\n",
       " 3.3557565112428107,\n",
       " 3.3566375117999225,\n",
       " 3.3592731519693766,\n",
       " 3.3580498466511344,\n",
       " 3.3564149158445082,\n",
       " 3.3572250910695174,\n",
       " 3.3528570675438267,\n",
       " 3.3557365639204666,\n",
       " 3.35369290219885,\n",
       " 3.3515186779330817,\n",
       " 3.3508654636069144,\n",
       " 3.3517465898741405,\n",
       " 3.3532492795348587,\n",
       " 3.357401694975495,\n",
       " 3.3575106523824862,\n",
       " 3.35921712780691,\n",
       " 3.358345602304898,\n",
       " 3.3565163637783724,\n",
       " 3.354400998970896,\n",
       " 3.3528864647872596,\n",
       " 3.3526363847118192,\n",
       " 3.3543201288443965,\n",
       " 3.355638046725503,\n",
       " 3.355732209472403,\n",
       " 3.357649453317172,\n",
       " 3.3577796176320542,\n",
       " 3.3536671157608287,\n",
       " 3.3537950011693183,\n",
       " 3.354864307187701,\n",
       " 3.3556270912015114,\n",
       " 3.355876232325859,\n",
       " 3.356885543034561,\n",
       " 3.355665583571083,\n",
       " 3.351831294543627,\n",
       " 3.350942151925415,\n",
       " 3.3514795597883014,\n",
       " 3.3549597209046826,\n",
       " 3.3570233728058545,\n",
       " 3.356600355522037,\n",
       " 3.35519641711447,\n",
       " 3.3533677601410363,\n",
       " 3.3543590691136997,\n",
       " 3.354017853539976,\n",
       " 3.3532916861489936,\n",
       " 3.3541798778369643,\n",
       " 3.3546318710499285,\n",
       " 3.351995989040797,\n",
       " 3.354854044241454,\n",
       " 3.3526900147413508,\n",
       " 3.3525551024534357,\n",
       " 3.3474511209347435,\n",
       " 3.348226731160027,\n",
       " 3.3479048897772823,\n",
       " 3.349649217111638,\n",
       " 3.3513233835907767,\n",
       " 3.352035068321439,\n",
       " 3.349467595744607,\n",
       " 3.3472126086687486,\n",
       " 3.345924978802462,\n",
       " 3.34624927672178,\n",
       " 3.3478714601765223,\n",
       " 3.350129107577539,\n",
       " 3.3518808647836074,\n",
       " 3.352156730120974,\n",
       " 3.355056850524055,\n",
       " 3.35599194433248,\n",
       " 3.357467232591815,\n",
       " 3.3577953629726953,\n",
       " 3.358245503687227,\n",
       " 3.359864997752349,\n",
       " 3.358602313549709,\n",
       " 3.3612506344794215,\n",
       " 3.3619829617858645,\n",
       " 3.3626200158958253,\n",
       " 3.362787805152626,\n",
       " 3.3637535614895375,\n",
       " 3.363128353999258,\n",
       " 3.3620404299973923,\n",
       " 3.3597188523585553,\n",
       " 3.3596095576460994,\n",
       " 3.3602110067287807,\n",
       " 3.3593059279638444,\n",
       " 3.359607859492036,\n",
       " 3.359379868912085,\n",
       " 3.359803719220443,\n",
       " 3.3576295307224124,\n",
       " 3.3562903809676716,\n",
       " 3.354716414080204,\n",
       " 3.3548260332894535,\n",
       " 3.353957885452676,\n",
       " 3.3529613022216838,\n",
       " 3.3549668753081052,\n",
       " 3.3532987654304147,\n",
       " 3.355699070064058,\n",
       " 3.354652335418272,\n",
       " 3.3551211988524066,\n",
       " 3.356038802289436,\n",
       " 3.355926941421143,\n",
       " 3.3536715837808204,\n",
       " 3.356201763922117,\n",
       " 3.35449376409437,\n",
       " 3.351844231231129,\n",
       " 3.353560285180978,\n",
       " 3.3528058074402716,\n",
       " 3.355674884022319,\n",
       " 3.3539055052729077,\n",
       " 3.3509794262731214,\n",
       " 3.3503797843804786,\n",
       " 3.352512403271791,\n",
       " 3.3527995395408765,\n",
       " 3.352728732447035,\n",
       " 3.3510502871191474,\n",
       " 3.351105324831467,\n",
       " 3.35036834213381,\n",
       " 3.3484879134862093,\n",
       " 3.3465480511221095,\n",
       " 3.3468802979136756,\n",
       " 3.3493231124887615,\n",
       " 3.34868359454244,\n",
       " 3.348648483546023,\n",
       " 3.349569362273178,\n",
       " 3.3462968344092694,\n",
       " 3.346011087126156,\n",
       " 3.3451987128193585,\n",
       " 3.3451769993238383,\n",
       " 3.3438157520939935,\n",
       " 3.343607281480015,\n",
       " 3.345282893717403,\n",
       " 3.343790329401414,\n",
       " 3.341458574567883,\n",
       " 3.340238273034221,\n",
       " 3.3397590254377385,\n",
       " 3.342494770321203,\n",
       " 3.3443841531651075,\n",
       " 3.342654515880224,\n",
       " 3.34321396451617,\n",
       " 3.3459693231004155,\n",
       " 3.3480389218561144,\n",
       " 3.3490595859112906,\n",
       " 3.3504668249969143,\n",
       " 3.3523669184476277,\n",
       " 3.3549218000303727,\n",
       " 3.35762910191104,\n",
       " 3.3599379885713887,\n",
       " 3.3616177238761007,\n",
       " 3.363418785754223,\n",
       " 3.3646494603302286,\n",
       " 3.367067555743681,\n",
       " 3.3692807430431597,\n",
       " 3.371131227658034,\n",
       " 3.3722148863950436,\n",
       " 3.3740877755242713,\n",
       " 3.3760657379887826,\n",
       " 3.377436306044815,\n",
       " 3.378159905335871,\n",
       " 3.380741455141269,\n",
       " 3.382527807717356,\n",
       " 3.3839040647203844,\n",
       " 3.3861701842966485,\n",
       " 3.3882570732869426,\n",
       " 3.390555054424844,\n",
       " 3.3927540870044264,\n",
       " 3.3923754289487116,\n",
       " 3.3950222059696333,\n",
       " 3.395629007536996,\n",
       " 3.397310201618795,\n",
       " 3.3991107872663395,\n",
       " 3.40032021219787,\n",
       " 3.4020046360444933,\n",
       " 3.402910873971461,\n",
       " 3.404385360624247,\n",
       " 3.406187471088951,\n",
       " 3.4065292645446936,\n",
       " 3.4063015649406654,\n",
       " 3.408295180922356,\n",
       " 3.405966218919991,\n",
       " 3.405034506510136,\n",
       " 3.402980847054753,\n",
       " 3.402485560760296,\n",
       " 3.4013371202507523,\n",
       " 3.4015868996931555,\n",
       " 3.4017611454901275,\n",
       " 3.4009533871414903,\n",
       " 3.398270924694736,\n",
       " 3.398496048287218,\n",
       " 3.3990382697049615,\n",
       " 3.3994895458403604,\n",
       " 3.398540211504581,\n",
       " 3.3997530743635327,\n",
       " 3.3997183248866785,\n",
       " 3.3981552343725547,\n",
       " 3.3983547699200773,\n",
       " 3.398297387193001,\n",
       " 3.398730481832234,\n",
       " 3.4000477667177296,\n",
       " 3.4011746476904112,\n",
       " 3.3996409705265256,\n",
       " 3.402532398003182,\n",
       " 3.4022207203416963,\n",
       " 3.402017727824402,\n",
       " 3.402196457338537,\n",
       " 3.402351433803268,\n",
       " 3.403118510034488,\n",
       " 3.403815462030684,\n",
       " 3.404456508166896,\n",
       " 3.403859816847085,\n",
       " 3.404976419609519,\n",
       " 3.4057940110322455,\n",
       " 3.4058018051174908,\n",
       " 3.4070205159810523,\n",
       " 3.4082439178072965,\n",
       " 3.4085571167482813,\n",
       " 3.410109508913809,\n",
       " 3.411721402584571,\n",
       " 3.411621929895674,\n",
       " 3.4134606930269302,\n",
       " 3.41478474474642,\n",
       " 3.4127774167438103,\n",
       " 3.412266358879973,\n",
       " 3.412250550231414,\n",
       " 3.412315436760712,\n",
       " 3.412898811141231,\n",
       " 3.4143567085985733,\n",
       " 3.4151604454342452,\n",
       " 3.413555356300658,\n",
       " 3.413300014171059,\n",
       " 3.4148571569960677,\n",
       " 3.4172556702155332,\n",
       " 3.417526057048087,\n",
       " 3.4180583095183534,\n",
       " 3.418663796463256,\n",
       " 3.4187919190084344,\n",
       " 3.4188588676207603,\n",
       " 3.420358979726314,\n",
       " 3.419679749516199,\n",
       " 3.4213288271970126,\n",
       " 3.4223901823473524,\n",
       " 3.423747094080465,\n",
       " 3.4235907896265796,\n",
       " 3.425216723362826,\n",
       " 3.4245818814133773,\n",
       " 3.4254782661763596,\n",
       " 3.427920691560365,\n",
       " 3.4283611040889004,\n",
       " 3.4289771171760948,\n",
       " 3.4301097756170162,\n",
       " 3.430450007170427,\n",
       " 3.430944900897528,\n",
       " 3.432173961586734,\n",
       " 3.4338352408048594,\n",
       " 3.43417303403089,\n",
       " 3.435850001362211,\n",
       " 3.437555663813678,\n",
       " 3.4392008440192043,\n",
       " 3.440776036466274,\n",
       " 3.4418898868446135,\n",
       " 3.443384458917838,\n",
       " 3.444879667282456,\n",
       " 3.446687532679322,\n",
       " 3.4478460681237397,\n",
       " 3.4492625809385786,\n",
       " 3.4508809918362378,\n",
       " 3.452672762410073,\n",
       " 3.45410598906202,\n",
       " 3.4550047560673507,\n",
       " 3.4566175933810994,\n",
       " 3.458267037053904,\n",
       " 3.459327018475352,\n",
       " 3.460527616131251,\n",
       " 3.4605152562932635,\n",
       " 3.4625210667613877,\n",
       " 3.4636269904923314,\n",
       " 3.464802591288678,\n",
       " 3.4655089872276847,\n",
       " 3.4671330791198174,\n",
       " 3.4684206426638307,\n",
       " 3.4696851336447305,\n",
       " 3.470763009389355,\n",
       " 3.4722101645961025,\n",
       " 3.473405083291252,\n",
       " 3.474847699284603,\n",
       " 3.475645767744054,\n",
       " 3.476426432926936,\n",
       " 3.4779044922985687,\n",
       " 3.478903806943261,\n",
       " 3.4805229224062972,\n",
       " 3.4820033601304807,\n",
       " 3.482829940219634,\n",
       " 3.4839575148911655,\n",
       " 3.48532016209836,\n",
       " 3.486277448906086,\n",
       " 3.4875023168056005,\n",
       " 3.488956947344445,\n",
       " 3.4898828240732582,\n",
       " 3.49100936300286,\n",
       " 3.492526415001586,\n",
       " 3.493659295933928,\n",
       " 3.494886957899335,\n",
       " 3.4960108206937393,\n",
       " 3.4974035319507157,\n",
       " 3.498029932859549,\n",
       " 3.498336560896643,\n",
       " 3.498928458895077,\n",
       " 3.499288027864749,\n",
       " 3.500411882931174,\n",
       " 3.5013831956668726,\n",
       " 3.5018283974666162,\n",
       " 3.5028672657608544,\n",
       " 3.504062370370765,\n",
       " 3.5046759562962957,\n",
       " 3.505512870558695,\n",
       " 3.5066641980122166,\n",
       " 3.508074702380315,\n",
       " 3.50877780018798,\n",
       " 3.509778242334896,\n",
       " 3.5097597928210567,\n",
       " 3.5109113037973105,\n",
       " 3.5119160843267414,\n",
       " 3.512350744100218,\n",
       " 3.5127567664271218,\n",
       " 3.5141757814890546,\n",
       " 3.51531537891165,\n",
       " 3.5162044631654243,\n",
       " 3.5173515428497515,\n",
       " 3.5178444321356044,\n",
       " 3.519127176364593,\n",
       " 3.520280096820217,\n",
       " 3.5206701839424546,\n",
       " 3.521444596993368,\n",
       " 3.522352146475276,\n",
       " 3.5229783560480485,\n",
       " 3.522661545872136,\n",
       " 3.523619072427084,\n",
       " 3.524397139813166,\n",
       " 3.5249598651201244,\n",
       " 3.5244186157785835,\n",
       " 3.524747951054741,\n",
       " 3.5250201467955837,\n",
       " 3.525446637606473,\n",
       " 3.5263354652332795,\n",
       " 3.5268424144989714,\n",
       " 3.5268262539384647,\n",
       " 3.527728561857257,\n",
       " 3.528473758676683,\n",
       " 3.529064724277282,\n",
       " 3.528385923287881,\n",
       " 3.5281803217815937,\n",
       " 3.52658806735375,\n",
       " 3.5267224983660395,\n",
       " 3.5266139784068433,\n",
       " 3.5247969625158575,\n",
       " 3.5252478512746634,\n",
       " 3.526022168493378,\n",
       " 3.5257073798555765,\n",
       " 3.524783465303985,\n",
       " 3.5247948101016973,\n",
       " 3.525308622725305,\n",
       " 3.5259271756211015,\n",
       " 3.5267545278451484,\n",
       " 3.527300993009033,\n",
       " 3.52614240191008,\n",
       " 3.525358245110074,\n",
       " 3.525148632492389,\n",
       " 3.524316964346977,\n",
       " 3.524007674417601,\n",
       " 3.522529500266306,\n",
       " 3.5229487765692182,\n",
       " 3.522500247334399,\n",
       " 3.5224217635242994,\n",
       " 3.5215700139292236,\n",
       " 3.5208493814267805,\n",
       " 3.5199605599567687,\n",
       " 3.5193127666388753,\n",
       " 3.516863165621498,\n",
       " 3.515738044231082,\n",
       " 3.5165681399281388,\n",
       " 3.515047122870432,\n",
       " 3.5143342447166206,\n",
       " 3.514468786710452,\n",
       " 3.5152716663798698,\n",
       " 3.515209463360013,\n",
       " 3.514236769413046,\n",
       " 3.5137104096652854,\n",
       " 3.5142448961597137,\n",
       " 3.5125516659490965,\n",
       " 3.513364079839181,\n",
       " 3.5132031856408905,\n",
       " 3.513305838156437,\n",
       " 3.5115735730848674,\n",
       " 3.5101057360433363,\n",
       " 3.510045535174713,\n",
       " 3.5106477702651837,\n",
       " 3.5099437926096124,\n",
       " 3.5085568236524693,\n",
       " 3.5081564115977906,\n",
       " 3.508537113571212,\n",
       " 3.5062913304661256,\n",
       " 3.5063438961654643,\n",
       " 3.505871339510491,\n",
       " 3.5056396864553214,\n",
       " 3.5049653277633763,\n",
       " 3.504200422659513,\n",
       " 3.5031131178145762,\n",
       " 3.5005610349798055,\n",
       " 3.500738108415259,\n",
       " 3.499874848952298,\n",
       " 3.497620622142391,\n",
       " 3.497680717605184,\n",
       " 3.497437496302694,\n",
       " 3.497835336300883,\n",
       " 3.498331107455109,\n",
       " 3.4970558181460754,\n",
       " 3.4958702926678256,\n",
       " 3.495134668483776,\n",
       " 3.492130103284111,\n",
       " 3.4901017788571296,\n",
       " 3.4900407822237995,\n",
       " 3.4900565404797748,\n",
       " 3.489867082864688,\n",
       " 3.4898639467527226,\n",
       " 3.490119970497034,\n",
       " 3.4890277292626903,\n",
       " 3.488665149650236,\n",
       " 3.4880167716727275,\n",
       " 3.487693193000313,\n",
       " 3.4868374223862504,\n",
       " 3.485507902826545,\n",
       " 3.484661099964068,\n",
       " 3.483069929453298,\n",
       " 3.482855267429623,\n",
       " 3.483458937126976,\n",
       " 3.4823830897606207,\n",
       " 3.4816375208429076,\n",
       " 3.4809328333107423,\n",
       " 3.481827937835846,\n",
       " 3.48174600474467,\n",
       " 3.4811832376335183,\n",
       " 3.4815208380379126,\n",
       " 3.4821346697425657,\n",
       " 3.4822796061449823,\n",
       " 3.4827019709774762,\n",
       " 3.48060848474123,\n",
       " 3.4805036996896943,\n",
       " 3.481222521380277,\n",
       " 3.4816973243023996,\n",
       " 3.4809201313867897,\n",
       " 3.4807598891305314,\n",
       " 3.4816604377525744,\n",
       " 3.4819143435779853,\n",
       " 3.481687439446091,\n",
       " 3.4817149771311344,\n",
       " 3.4818925822705773,\n",
       " 3.482387495940336,\n",
       " 3.4819980269677044,\n",
       " 3.4818007204998898,\n",
       " 3.4809655287114163,\n",
       " 3.4809938960307734,\n",
       " 3.480278131304537,\n",
       " 3.4811662978024454,\n",
       " 3.4806069511687125,\n",
       " 3.4797754665576623,\n",
       " 3.480914851962163,\n",
       " 3.4808164337381204,\n",
       " 3.4802055933737086,\n",
       " 3.479045213548869,\n",
       " 3.4793670833328654,\n",
       " 3.4800207708784656,\n",
       " 3.4797834703613155,\n",
       " 3.4795769201520304,\n",
       " 3.480078878845765,\n",
       " 3.4802448220883258,\n",
       " 3.4802736197237656,\n",
       " 3.477172784760558,\n",
       " 3.4763753990684223,\n",
       " 3.4752606790891263,\n",
       " 3.4751800735500735,\n",
       " 3.4741463390951783,\n",
       " 3.4744697066205705,\n",
       " 3.4738164157458438,\n",
       " 3.473743304084938,\n",
       " 3.4737810835035208,\n",
       " 3.4731235374528806,\n",
       " 3.473162097657396,\n",
       " 3.4716937792683007,\n",
       " 3.471018966994669,\n",
       " 3.471774654184677,\n",
       " 3.4716470911133386,\n",
       " 3.4723522472038706,\n",
       " 3.4717396076867475,\n",
       " 3.472134863925829,\n",
       " 3.471564129993822,\n",
       " 3.469415378328881,\n",
       " 3.469134498491546,\n",
       " 3.4698382510421912,\n",
       " 3.4693518783326818,\n",
       " 3.4690869461096776,\n",
       " 3.4682074286046007,\n",
       " 3.468017998695512,\n",
       " 3.4681563558735924,\n",
       " 3.4681175881349406,\n",
       " 3.4669165495501364,\n",
       " 3.4674646758775802,\n",
       " 3.4673938278870486,\n",
       " 3.4668185549040405,\n",
       " 3.4659585636572823,\n",
       " 3.4650799175040548,\n",
       " 3.4656152627360703,\n",
       " 3.4659069181563673,\n",
       " 3.4671297301644497,\n",
       " 3.4678029563030974,\n",
       " 3.4687956418806105,\n",
       " 3.4689804153442334,\n",
       " 3.4699609349679936,\n",
       " 3.470626573044336,\n",
       " 3.471176872493926,\n",
       " 3.471665842531605,\n",
       " 3.47224202762097,\n",
       " 3.4729630084575533,\n",
       " 3.473734493491665,\n",
       " 3.474172804189162,\n",
       " 3.474434700600696,\n",
       " 3.474730723687254,\n",
       " 3.4751819597021516,\n",
       " 3.475539613462423,\n",
       " 3.475388188225852,\n",
       " 3.475260572270077,\n",
       " 3.475727735561789,\n",
       " 3.4761361362712027,\n",
       " 3.474620475253341,\n",
       " 3.473870537338574,\n",
       " 3.473066684268321,\n",
       " 3.4734006729250955,\n",
       " 3.4723764863928444,\n",
       " 3.4723138599603587,\n",
       " 3.472753877226704,\n",
       " 3.4730213165015127,\n",
       " 3.47263227488677,\n",
       " 3.471917049266835,\n",
       " 3.4717923902113514,\n",
       " 3.471608757509922,\n",
       " 3.4717393094054008,\n",
       " 3.471247590742166,\n",
       " 3.4712508095265573,\n",
       " 3.47175990193766,\n",
       " 3.4718046808895693,\n",
       " 3.471669830232896,\n",
       " 3.4711751761790266,\n",
       " 3.471040328247862,\n",
       " 3.471979331749503,\n",
       " 3.472670458278627,\n",
       " 3.4726178595520305,\n",
       " 3.47246503670086,\n",
       " 3.4733435393854024,\n",
       " 3.472998474012939,\n",
       " 3.4720724286178863,\n",
       " 3.4702255813079934,\n",
       " 3.469300973473841,\n",
       " 3.469146438534108,\n",
       " 3.4685395220547623,\n",
       " 3.468026458811059,\n",
       " 3.4685047597382956,\n",
       " 3.4688427294174593,\n",
       " 3.4697101868350138,\n",
       " 3.469333272183857,\n",
       " 3.469944721351674,\n",
       " 3.4704065725797424,\n",
       " 3.4703164233190766,\n",
       " 3.4702589510825157,\n",
       " 3.4692162782891103,\n",
       " 3.469557637762292,\n",
       " 3.4695095620222354,\n",
       " 3.469641446462038,\n",
       " 3.4684093734678045,\n",
       " 3.4684494630953835,\n",
       " 3.46809947352531,\n",
       " 3.4678315124909873,\n",
       " 3.4677572512983197,\n",
       " 3.4670403860820342,\n",
       " 3.466599789200245,\n",
       " 3.4664403436219073,\n",
       " 3.4664563515754225,\n",
       " 3.466335640543758,\n",
       " 3.466133908944024,\n",
       " 3.4658630644466006,\n",
       " 3.466179568746417,\n",
       " 3.466395455396595,\n",
       " 3.4659796475038815,\n",
       " 3.4662892560659535,\n",
       " 3.4666218140700225,\n",
       " 3.4653630126278276,\n",
       " 3.4644122511214577,\n",
       " 3.4641952057530814,\n",
       " 3.4643870922627404,\n",
       " 3.4635235768845276,\n",
       " 3.4633523487301585,\n",
       " 3.462920600600413,\n",
       " 3.463302606361359,\n",
       " 3.4620722899918075,\n",
       " 3.462177513555925,\n",
       " 3.4628996542026624,\n",
       " 3.4629159619597027,\n",
       " 3.4630154738286967,\n",
       " 3.4626527457905545,\n",
       " 3.461720407470517,\n",
       " 3.4612505694600806,\n",
       " 3.4614222648830886,\n",
       " 3.4611555194233334,\n",
       " 3.4608606221977576,\n",
       " 3.461385526840114,\n",
       " 3.4599981436985385,\n",
       " 3.46086102473648,\n",
       " 3.461006950068321,\n",
       " 3.460887315262334,\n",
       " 3.4609013734232823,\n",
       " 3.4614310460729527,\n",
       " 3.462055827945154,\n",
       " 3.4619059412689266,\n",
       " 3.4624787244386295,\n",
       " 3.46295727472275,\n",
       " 3.4629128726258718,\n",
       " 3.4628717451479623,\n",
       " 3.462562742408007,\n",
       " 3.462010098749216,\n",
       " 3.462560297823593,\n",
       " 3.4622256826674485,\n",
       " 3.4609313663785586,\n",
       " 3.4613220231179542,\n",
       " 3.461085185515563,\n",
       " 3.4611589347782417,\n",
       " 3.459901637462154,\n",
       " 3.4604619116584514,\n",
       " 3.4610374512676643,\n",
       " 3.4613195794243725,\n",
       " 3.4610638304444437,\n",
       " 3.4594606928349685,\n",
       " 3.4596764533644064,\n",
       " 3.4602757724200264,\n",
       " 3.460469110715308,\n",
       " 3.4602372733808315,\n",
       " 3.4603871539671744,\n",
       " 3.460823348329006,\n",
       " 3.4614875871331847,\n",
       " 3.462261813986005,\n",
       " 3.4622866913093047,\n",
       " 3.4630846430920963,\n",
       " 3.4626803407342974,\n",
       " 3.463556500923416,\n",
       " 3.462795637590202,\n",
       " 3.462466293199682,\n",
       " 3.4627110232347267,\n",
       " 3.4610842539079303,\n",
       " 3.4606095607740874,\n",
       " 3.4602880020901705,\n",
       " 3.4607254583089606,\n",
       " 3.4607620657371814,\n",
       " 3.460825907440732,\n",
       " 3.4610695940258482,\n",
       " 3.462213245103036,\n",
       " 3.4613974223709594,\n",
       " 3.4616017731462785,\n",
       " 3.460747697650438,\n",
       " 3.4598412124552507,\n",
       " 3.459411899024097,\n",
       " 3.4588072971215316,\n",
       " 3.4585291155710927,\n",
       " 3.458033886204225,\n",
       " 3.4568991523190142,\n",
       " 3.4555874752755686,\n",
       " 3.4548176843284453,\n",
       " 3.4547980941878023,\n",
       " 3.455183016731606,\n",
       " 3.4548402764774115,\n",
       " 3.454891189356242,\n",
       " 3.4549922610542,\n",
       " 3.4553546701115554,\n",
       " 3.4560327250096456,\n",
       " 3.4551369472451476,\n",
       " 3.4552432959589985,\n",
       " 3.453520365803016,\n",
       " 3.4528000117132183,\n",
       " 3.4528010214249396,\n",
       " 3.4525941473613684,\n",
       " 3.452303972941019,\n",
       " 3.4514986975442765,\n",
       " 3.450670441542252,\n",
       " 3.44899322601897,\n",
       " 3.4489265175426875,\n",
       " 3.44883196083104,\n",
       " 3.4482310948722015,\n",
       " 3.4483611373266396,\n",
       " 3.447618044433423,\n",
       " 3.445744293832503,\n",
       " 3.445877615081493,\n",
       " 3.4455187190296415,\n",
       " 3.445358632430049,\n",
       " 3.444295887635692,\n",
       " 3.4442147399767835,\n",
       " 3.4437775029213866,\n",
       " 3.4435835151489282,\n",
       " 3.4421750539726164,\n",
       " 3.4421121472301492,\n",
       " 3.442048401360064,\n",
       " 3.44185994156494,\n",
       " 3.441728752708582,\n",
       " 3.442064194762218,\n",
       " 3.441040211941824,\n",
       " 3.4407518279945384,\n",
       " 3.439708893980083,\n",
       " 3.439774214788338,\n",
       " 3.440109956980126,\n",
       " 3.439779692577569,\n",
       " 3.439137195702439,\n",
       " 3.439118948697606,\n",
       " 3.438762889110835,\n",
       " 3.439097912911577,\n",
       " 3.4397982651900754,\n",
       " 3.4392661987875557,\n",
       " 3.438633938917612,\n",
       " 3.4381102155104117,\n",
       " 3.437694679947767,\n",
       " 3.43767219009399,\n",
       " 3.437449427782636,\n",
       " 3.4378401663106923,\n",
       " 3.437136475064922,\n",
       " 3.4364490737780224,\n",
       " 3.435984766252727,\n",
       " 3.4356231933670713,\n",
       " 3.4353996018666817,\n",
       " 3.4360537261552326,\n",
       " 3.436827680541368,\n",
       " 3.4363375816312987,\n",
       " 3.4371368506181215,\n",
       " 3.4372325643743618,\n",
       " 3.4377856296667293,\n",
       " 3.4372804112301294,\n",
       " 3.4377411686919923,\n",
       " 3.438069516569288,\n",
       " 3.438440942147121,\n",
       " 3.4378129873284986,\n",
       " 3.4380466364882323,\n",
       " 3.438492280181581,\n",
       " 3.4380214431657254,\n",
       " 3.43711093660721,\n",
       " 3.43653421891202,\n",
       " 3.436204871087474,\n",
       " 3.43589253646797,\n",
       " 3.435550445230379,\n",
       " 3.4357282071137663,\n",
       " 3.4352969298096663,\n",
       " 3.4340673686791585,\n",
       " 3.43225745430747,\n",
       " 3.4327510707202897,\n",
       " 3.4326564675874556,\n",
       " 3.432381684735265,\n",
       " 3.4327293102094605,\n",
       " 3.432752637871984,\n",
       " 3.432264049504797,\n",
       " 3.432023394214605,\n",
       " 3.432634177765745,\n",
       " 3.4326605629357325,\n",
       " 3.4321484324438325,\n",
       " 3.432422870525345,\n",
       " 3.4330038092453803,\n",
       " 3.4327634338439705,\n",
       " 3.4321286609337287,\n",
       " 3.4325671440401875,\n",
       " 3.4313183978890875,\n",
       " 3.4312865054268786,\n",
       " 3.431232949243025,\n",
       " 3.4310718662384363,\n",
       " 3.4304280115519,\n",
       " 3.430460299725725,\n",
       " 3.4296864459941556,\n",
       " 3.4300359536399103,\n",
       " 3.4296011346776862,\n",
       " 3.4293692143396277,\n",
       " 3.4280432964799354,\n",
       " 3.4266997428496513,\n",
       " 3.426044317196193,\n",
       " 3.4257059864844703,\n",
       " 3.4251106370843183,\n",
       " 3.4252630592126705,\n",
       " 3.425839525552477,\n",
       " 3.4256633336431057,\n",
       " 3.4249557126885084,\n",
       " 3.425447423642486,\n",
       " ...]"
      ]
     },
     "execution_count": 42,
     "metadata": {},
     "output_type": "execute_result"
    }
   ],
   "source": [
    "medias = list()\n",
    "for i in range(1, len(nota_media_dos_filmes_com_pelo_menos_10_votos)):\n",
    "    medias.append(nota_media_dos_filmes_com_pelo_menos_10_votos[0:i].mean())\n",
    "medias"
   ]
  },
  {
   "cell_type": "code",
   "execution_count": 38,
   "id": "44c92b2b",
   "metadata": {},
   "outputs": [
    {
     "data": {
      "text/plain": [
       "[<matplotlib.lines.Line2D at 0x1aa9878c970>]"
      ]
     },
     "execution_count": 38,
     "metadata": {},
     "output_type": "execute_result"
    },
    {
     "data": {
      "image/png": "[encoded data removed]",
      "text/plain": [
       "<Figure size 432x288 with 1 Axes>"
      ]
     },
     "metadata": {
      "needs_background": "light"
     },
     "output_type": "display_data"
    }
   ],
   "source": [
    "import matplotlib.pyplot as plt\n",
    "\n",
    "medias = list()\n",
    "for i in range(1, len(nota_media_dos_filmes_com_pelo_menos_10_votos)):\n",
    "    medias.append(nota_media_dos_filmes_com_pelo_menos_10_votos[0:i].mean())\n",
    "plt.plot(medias)"
   ]
  },
  {
   "cell_type": "code",
   "execution_count": 40,
   "id": "4acd3fd3",
   "metadata": {},
   "outputs": [
    {
     "data": {
      "text/plain": [
       "[<matplotlib.lines.Line2D at 0x1aa9885a190>]"
      ]
     },
     "execution_count": 40,
     "metadata": {},
     "output_type": "execute_result"
    },
    {
     "data": {
      "image/png": "[encoded data removed]",
      "text/plain": [
       "<Figure size 432x288 with 1 Axes>"
      ]
     },
     "metadata": {
      "needs_background": "light"
     },
     "output_type": "display_data"
    }
   ],
   "source": [
    "import numpy as np\n",
    "\n",
    "np.random.seed(75243)\n",
    "temp = nota_media_dos_filmes_com_pelo_menos_10_votos.sample(frac=1)\n",
    "\n",
    "medias = list()\n",
    "for i in range(1, len(temp)):\n",
    "    medias.append(temp[0:i].mean())\n",
    "plt.plot(medias)"
   ]
  },
  {
   "cell_type": "code",
   "execution_count": 41,
   "id": "b512928c",
   "metadata": {},
   "outputs": [
    {
     "data": {
      "text/plain": [
       "[<matplotlib.lines.Line2D at 0x1aa988ad8b0>]"
      ]
     },
     "execution_count": 41,
     "metadata": {},
     "output_type": "execute_result"
    },
    {
     "data": {
      "image/png": "[encoded data removed]",
      "text/plain": [
       "<Figure size 432x288 with 1 Axes>"
      ]
     },
     "metadata": {
      "needs_background": "light"
     },
     "output_type": "display_data"
    }
   ],
   "source": [
    "np.random.seed(75243)\n",
    "temp = nota_media_dos_filmes_com_pelo_menos_10_votos.sample(frac=1)\n",
    "\n",
    "medias = list()\n",
    "medias = [temp[0:i].mean() for i in range(1, len(temp))]\n",
    "\n",
    "plt.plot(medias)"
   ]
  },
  {
   "cell_type": "code",
   "execution_count": 43,
   "id": "ca7f9118",
   "metadata": {},
   "outputs": [
    {
     "data": {
      "text/plain": [
       "(3.4112459477469557, 3.452854733323563)"
      ]
     },
     "execution_count": 43,
     "metadata": {},
     "output_type": "execute_result"
    }
   ],
   "source": [
    "from statsmodels.stats.weightstats import zconfint\n",
    "\n",
    "zconfint(nota_media_dos_filmes_com_pelo_menos_10_votos)"
   ]
  },
  {
   "cell_type": "code",
   "execution_count": 44,
   "id": "c5c2b7c6",
   "metadata": {},
   "outputs": [
    {
     "data": {
      "text/plain": [
       "<statsmodels.stats.weightstats.DescrStatsW at 0x1aa9891c6d0>"
      ]
     },
     "execution_count": 44,
     "metadata": {},
     "output_type": "execute_result"
    }
   ],
   "source": [
    "from statsmodels.stats.weightstats import DescrStatsW\n",
    "\n",
    "descr_todos_com_10_votos = DescrStatsW(nota_media_dos_filmes_com_pelo_menos_10_votos)\n",
    "descr_todos_com_10_votos"
   ]
  },
  {
   "cell_type": "code",
   "execution_count": 45,
   "id": "6afb6c04",
   "metadata": {},
   "outputs": [
    {
     "data": {
      "text/plain": [
       "(3.41123483922938, 3.4528658418411386)"
      ]
     },
     "execution_count": 45,
     "metadata": {},
     "output_type": "execute_result"
    }
   ],
   "source": [
    "descr_todos_com_10_votos.tconfint_mean()"
   ]
  },
  {
   "cell_type": "markdown",
   "id": "de389df8",
   "metadata": {},
   "source": [
    "# ZTest para uma amostra"
   ]
  },
  {
   "cell_type": "code",
   "execution_count": 46,
   "id": "666badde",
   "metadata": {},
   "outputs": [
    {
     "data": {
      "text/html": [
       "<div>\n",
       "<style scoped>\n",
       "    .dataframe tbody tr th:only-of-type {\n",
       "        vertical-align: middle;\n",
       "    }\n",
       "\n",
       "    .dataframe tbody tr th {\n",
       "        vertical-align: top;\n",
       "    }\n",
       "\n",
       "    .dataframe thead th {\n",
       "        text-align: right;\n",
       "    }\n",
       "</style>\n",
       "<table border=\"1\" class=\"dataframe\">\n",
       "  <thead>\n",
       "    <tr style=\"text-align: right;\">\n",
       "      <th></th>\n",
       "      <th>movieId</th>\n",
       "      <th>title</th>\n",
       "      <th>genres</th>\n",
       "    </tr>\n",
       "  </thead>\n",
       "  <tbody>\n",
       "    <tr>\n",
       "      <th>0</th>\n",
       "      <td>1</td>\n",
       "      <td>Toy Story (1995)</td>\n",
       "      <td>Adventure|Animation|Children|Comedy|Fantasy</td>\n",
       "    </tr>\n",
       "  </tbody>\n",
       "</table>\n",
       "</div>"
      ],
      "text/plain": [
       "   movieId             title                                       genres\n",
       "0        1  Toy Story (1995)  Adventure|Animation|Children|Comedy|Fantasy"
      ]
     },
     "execution_count": 46,
     "metadata": {},
     "output_type": "execute_result"
    }
   ],
   "source": [
    "filmes = pd.read_csv(\"movies.csv\")\n",
    "filmes.query(\"movieId==1\")"
   ]
  },
  {
   "cell_type": "code",
   "execution_count": 47,
   "id": "d127f45f",
   "metadata": {},
   "outputs": [
    {
     "data": {
      "text/html": [
       "<div>\n",
       "<style scoped>\n",
       "    .dataframe tbody tr th:only-of-type {\n",
       "        vertical-align: middle;\n",
       "    }\n",
       "\n",
       "    .dataframe tbody tr th {\n",
       "        vertical-align: top;\n",
       "    }\n",
       "\n",
       "    .dataframe thead th {\n",
       "        text-align: right;\n",
       "    }\n",
       "</style>\n",
       "<table border=\"1\" class=\"dataframe\">\n",
       "  <thead>\n",
       "    <tr style=\"text-align: right;\">\n",
       "      <th></th>\n",
       "      <th>userId</th>\n",
       "      <th>movieId</th>\n",
       "      <th>rating</th>\n",
       "      <th>timestamp</th>\n",
       "    </tr>\n",
       "  </thead>\n",
       "  <tbody>\n",
       "    <tr>\n",
       "      <th>0</th>\n",
       "      <td>1</td>\n",
       "      <td>1</td>\n",
       "      <td>4.0</td>\n",
       "      <td>964982703</td>\n",
       "    </tr>\n",
       "    <tr>\n",
       "      <th>516</th>\n",
       "      <td>5</td>\n",
       "      <td>1</td>\n",
       "      <td>4.0</td>\n",
       "      <td>847434962</td>\n",
       "    </tr>\n",
       "    <tr>\n",
       "      <th>874</th>\n",
       "      <td>7</td>\n",
       "      <td>1</td>\n",
       "      <td>4.5</td>\n",
       "      <td>1106635946</td>\n",
       "    </tr>\n",
       "    <tr>\n",
       "      <th>1434</th>\n",
       "      <td>15</td>\n",
       "      <td>1</td>\n",
       "      <td>2.5</td>\n",
       "      <td>1510577970</td>\n",
       "    </tr>\n",
       "    <tr>\n",
       "      <th>1667</th>\n",
       "      <td>17</td>\n",
       "      <td>1</td>\n",
       "      <td>4.5</td>\n",
       "      <td>1305696483</td>\n",
       "    </tr>\n",
       "  </tbody>\n",
       "</table>\n",
       "</div>"
      ],
      "text/plain": [
       "      userId  movieId  rating   timestamp\n",
       "0          1        1     4.0   964982703\n",
       "516        5        1     4.0   847434962\n",
       "874        7        1     4.5  1106635946\n",
       "1434      15        1     2.5  1510577970\n",
       "1667      17        1     4.5  1305696483"
      ]
     },
     "execution_count": 47,
     "metadata": {},
     "output_type": "execute_result"
    }
   ],
   "source": [
    "notas1 = notas.query(\"movieId ==1\")\n",
    "notas1.head()"
   ]
  },
  {
   "cell_type": "code",
   "execution_count": 48,
   "id": "9bbf5a4d",
   "metadata": {},
   "outputs": [
    {
     "name": "stderr",
     "output_type": "stream",
     "text": [
      "C:\\Users\\PC\\anaconda3\\lib\\site-packages\\seaborn\\distributions.py:2619: FutureWarning: `distplot` is a deprecated function and will be removed in a future version. Please adapt your code to use either `displot` (a figure-level function with similar flexibility) or `histplot` (an axes-level function for histograms).\n",
      "  warnings.warn(msg, FutureWarning)\n"
     ]
    },
    {
     "data": {
      "text/plain": [
       "Text(0.5, 1.0, 'Distribuição das notas para o Toy Story')"
      ]
     },
     "execution_count": 48,
     "metadata": {},
     "output_type": "execute_result"
    },
    {
     "data": {
      "image/png": "[encoded data removed]",
      "text/plain": [
       "<Figure size 432x288 with 1 Axes>"
      ]
     },
     "metadata": {
      "needs_background": "light"
     },
     "output_type": "display_data"
    }
   ],
   "source": [
    "ax = sns.distplot(notas1.rating)\n",
    "ax.set(xlabel='Notas do Toy Story', ylabel='Densidade')\n",
    "ax.set_title('Distribuição das notas para o Toy Story')"
   ]
  },
  {
   "cell_type": "code",
   "execution_count": 49,
   "id": "b5194603",
   "metadata": {},
   "outputs": [
    {
     "name": "stderr",
     "output_type": "stream",
     "text": [
      "C:\\Users\\PC\\anaconda3\\lib\\site-packages\\seaborn\\_decorators.py:36: FutureWarning: Pass the following variable as a keyword arg: x. From version 0.12, the only valid positional argument will be `data`, and passing other arguments without an explicit keyword will result in an error or misinterpretation.\n",
      "  warnings.warn(\n"
     ]
    },
    {
     "data": {
      "text/plain": [
       "Text(0.5, 1.0, 'Distribuição das notas para o Toy Story')"
      ]
     },
     "execution_count": 49,
     "metadata": {},
     "output_type": "execute_result"
    },
    {
     "data": {
      "image/png": "[encoded data removed]",
      "text/plain": [
       "<Figure size 432x288 with 1 Axes>"
      ]
     },
     "metadata": {
      "needs_background": "light"
     },
     "output_type": "display_data"
    }
   ],
   "source": [
    "ax = sns.boxplot(notas1.rating)\n",
    "ax.set(xlabel='Notas')\n",
    "ax.set_title('Distribuição das notas para o Toy Story')"
   ]
  },
  {
   "cell_type": "code",
   "execution_count": 50,
   "id": "8d99db74",
   "metadata": {},
   "outputs": [
    {
     "data": {
      "text/plain": [
       "3.9209302325581397"
      ]
     },
     "execution_count": 50,
     "metadata": {},
     "output_type": "execute_result"
    }
   ],
   "source": [
    "notas1.rating.mean()"
   ]
  },
  {
   "cell_type": "code",
   "execution_count": 51,
   "id": "f26006b2",
   "metadata": {},
   "outputs": [
    {
     "data": {
      "text/plain": [
       "(3.8093359183563402, 4.032524546759939)"
      ]
     },
     "execution_count": 51,
     "metadata": {},
     "output_type": "execute_result"
    }
   ],
   "source": [
    "zconfint(notas1.rating)"
   ]
  },
  {
   "cell_type": "code",
   "execution_count": 52,
   "id": "19321114",
   "metadata": {},
   "outputs": [
    {
     "data": {
      "text/plain": [
       "(8.586342305916716, 8.978190401886942e-18)"
      ]
     },
     "execution_count": 52,
     "metadata": {},
     "output_type": "execute_result"
    }
   ],
   "source": [
    "from statsmodels.stats.weightstats import ztest\n",
    "\n",
    "ztest(notas1.rating, value = 3.4320503405352603)"
   ]
  },
  {
   "cell_type": "code",
   "execution_count": 53,
   "id": "ac842180",
   "metadata": {},
   "outputs": [
    {
     "data": {
      "text/plain": [
       "[<matplotlib.lines.Line2D at 0x1aa99b031f0>]"
      ]
     },
     "execution_count": 53,
     "metadata": {},
     "output_type": "execute_result"
    },
    {
     "data": {
      "image/png": "[encoded data removed]",
      "text/plain": [
       "<Figure size 432x288 with 1 Axes>"
      ]
     },
     "metadata": {
      "needs_background": "light"
     },
     "output_type": "display_data"
    }
   ],
   "source": [
    "np.random.seed(75241)\n",
    "temp = notas1.sample(frac=1).rating\n",
    "\n",
    "medias = [temp[0:i].mean() for i in range(1, len(temp))]\n",
    "\n",
    "plt.plot(medias)"
   ]
  },
  {
   "cell_type": "code",
   "execution_count": 54,
   "id": "aa4f60e4",
   "metadata": {},
   "outputs": [
    {
     "data": {
      "text/plain": [
       "[(4.5, 0.032687621135204896),\n",
       " (4.0, 0.3252543510880489),\n",
       " (3.875, 0.29952196979944745),\n",
       " (3.9, 0.15826781784711086),\n",
       " (3.9166666666666665, 0.07406936464331344),\n",
       " (3.9285714285714284, 0.03058372185045264),\n",
       " (4.0625, 0.008546846816661634),\n",
       " (3.9444444444444446, 0.034351369792154834),\n",
       " (3.6, 0.6797757440816464),\n",
       " (3.590909090909091, 0.6661040559180447),\n",
       " (3.5, 0.8452594429449549),\n",
       " (3.5, 0.8319722700425317),\n",
       " (3.5357142857142856, 0.7285036535608292),\n",
       " (3.6, 0.5561564945645507),\n",
       " (3.5625, 0.6284166359766319),\n",
       " (3.6470588235294117, 0.42056196093078513),\n",
       " (3.7222222222222223, 0.2692718087435868),\n",
       " (3.6842105263157894, 0.3157395629293568),\n",
       " (3.65, 0.36558117183067695),\n",
       " (3.5714285714285716, 0.5650170364597873),\n",
       " (3.590909090909091, 0.4930885087384419),\n",
       " (3.608695652173913, 0.4265824656611449),\n",
       " (3.625, 0.36578337526912086),\n",
       " (3.64, 0.3108287352909964),\n",
       " (3.6538461538461537, 0.26171758950670954),\n",
       " (3.6481481481481484, 0.2559999054486449),\n",
       " (3.6964285714285716, 0.16314137427171593),\n",
       " (3.7413793103448274, 0.10054986793464257),\n",
       " (3.7333333333333334, 0.09812718831667805),\n",
       " (3.7419354838709675, 0.07894877889458934),\n",
       " (3.671875, 0.19389049416761317),\n",
       " (3.6666666666666665, 0.18994435269346233),\n",
       " (3.7058823529411766, 0.12400478766945784),\n",
       " (3.742857142857143, 0.07870821336871098),\n",
       " (3.7222222222222223, 0.09353576061527746),\n",
       " (3.7027027027027026, 0.11013590254134484),\n",
       " (3.736842105263158, 0.070293980214127),\n",
       " (3.7435897435897436, 0.057719600728433226),\n",
       " (3.725, 0.06895669959313765),\n",
       " (3.7560975609756095, 0.043027696867534854),\n",
       " (3.7857142857142856, 0.026192682251694282),\n",
       " (3.813953488372093, 0.015559932099710492),\n",
       " (3.8181818181818183, 0.01233272538941352),\n",
       " (3.8222222222222224, 0.00971325069982623),\n",
       " (3.8043478260869565, 0.012260404094830826),\n",
       " (3.7872340425531914, 0.015299059283941084),\n",
       " (3.8125, 0.008966188879749698),\n",
       " (3.806122448979592, 0.008766884002523942),\n",
       " (3.81, 0.006897537294395224),\n",
       " (3.8137254901960786, 0.005394516156167565),\n",
       " (3.8173076923076925, 0.004193844231736312),\n",
       " (3.80188679245283, 0.005385212289644282),\n",
       " (3.8055555555555554, 0.004195763368449785),\n",
       " (3.790909090909091, 0.005368352947838337),\n",
       " (3.7767857142857144, 0.006794205663451532),\n",
       " (3.763157894736842, 0.008512220201001898),\n",
       " (3.7844827586206895, 0.004975558567317606),\n",
       " (3.788135593220339, 0.003904050433428437),\n",
       " (3.808333333333333, 0.0022169155153936113),\n",
       " (3.8114754098360657, 0.0017134856636438817),\n",
       " (3.7983870967741935, 0.0022185468321933607),\n",
       " (3.7936507936507935, 0.0021667091142656882),\n",
       " (3.7890625, 0.0021155742986059037),\n",
       " (3.792307692307692, 0.001638169688311084),\n",
       " (3.7803030303030303, 0.002112904717074153),\n",
       " (3.783582089552239, 0.0016391796508841768),\n",
       " (3.7720588235294117, 0.002107877006211813),\n",
       " (3.7753623188405796, 0.001638208006937132),\n",
       " (3.7785714285714285, 0.0012667046775475992),\n",
       " (3.76056338028169, 0.0022426047709492537),\n",
       " (3.763888888888889, 0.0017525084760790894),\n",
       " (3.7739726027397262, 0.0011365250751412),\n",
       " (3.7905405405405403, 0.0006361085905667348),\n",
       " (3.8066666666666666, 0.00035042445221225517),\n",
       " (3.8157894736842106, 0.00021841519783205381),\n",
       " (3.811688311688312, 0.0002133389727594162),\n",
       " (3.8141025641025643, 0.0001607423772756106),\n",
       " (3.8164556962025316, 0.00012053616176043722),\n",
       " (3.83125, 6.355135417245393e-05),\n",
       " (3.845679012345679, 3.300722928041108e-05),\n",
       " (3.841463414634146, 3.2304003745802037e-05),\n",
       " (3.8433734939759034, 2.374556884407959e-05),\n",
       " (3.857142857142857, 1.2077073301628071e-05),\n",
       " (3.847058823529412, 1.7088673225760976e-05),\n",
       " (3.8313953488372094, 3.608185615666001e-05),\n",
       " (3.8333333333333335, 2.681257612846113e-05),\n",
       " (3.8238636363636362, 3.681562512354262e-05),\n",
       " (3.808988764044944, 7.313870608516293e-05),\n",
       " (3.811111111111111, 5.525606847923858e-05),\n",
       " (3.8131868131868134, 4.1572170968967595e-05),\n",
       " (3.8206521739130435, 2.540508532221419e-05),\n",
       " (3.8225806451612905, 1.891161316381205e-05),\n",
       " (3.824468085106383, 1.4019284811900051e-05),\n",
       " (3.8157894736842106, 1.9300245184706242e-05),\n",
       " (3.8177083333333335, 1.4337154349835086e-05),\n",
       " (3.829896907216495, 7.470440358184904e-06),\n",
       " (3.8418367346938775, 3.843679820388642e-06),\n",
       " (3.823232323232323, 1.3101881021708747e-05),\n",
       " (3.815, 1.773810320525232e-05),\n",
       " (3.797029702970297, 5.156319239792069e-05),\n",
       " (3.799019607843137, 3.956916550250529e-05),\n",
       " (3.7815533980582523, 0.00010532490098882295),\n",
       " (3.7836538461538463, 8.207340957567451e-05),\n",
       " (3.7857142857142856, 6.373666797007717e-05),\n",
       " (3.7877358490566038, 4.9327620681370155e-05),\n",
       " (3.794392523364486, 3.158510492524062e-05),\n",
       " (3.7824074074074074, 5.741195652105531e-05),\n",
       " (3.7844036697247705, 4.452063805181686e-05),\n",
       " (3.7954545454545454, 2.5034997999585643e-05),\n",
       " (3.8018018018018016, 1.593383648900579e-05),\n",
       " (3.8035714285714284, 1.2181676067708934e-05),\n",
       " (3.8053097345132745, 9.282385148662153e-06),\n",
       " (3.807017543859649, 7.049800097807919e-06),\n",
       " (3.8086956521739133, 5.336512954125956e-06),\n",
       " (3.8017241379310347, 7.132420343988585e-06),\n",
       " (3.8119658119658117, 3.8777239631651985e-06),\n",
       " (3.809322033898305, 3.789024541840527e-06),\n",
       " (3.80672268907563, 3.701652394675697e-06),\n",
       " (3.8041666666666667, 3.6156244484077226e-06),\n",
       " (3.809917355371901, 2.234409015059164e-06),\n",
       " (3.819672131147541, 1.1935921381583365e-06),\n",
       " (3.821138211382114, 8.907771906449635e-07),\n",
       " (3.814516129032258, 1.2165528009735344e-06),\n",
       " (3.808, 1.6492029231809994e-06),\n",
       " (3.8095238095238093, 1.2383902023580329e-06),\n",
       " (3.7992125984251968, 2.4447090501870245e-06),\n",
       " (3.80859375, 1.3259626346058774e-06),\n",
       " (3.802325581395349, 1.7799716841358229e-06),\n",
       " (3.7884615384615383, 5.106740278151876e-06),\n",
       " (3.786259541984733, 4.986913728968981e-06),\n",
       " (3.7954545454545454, 2.7799402746913627e-06),\n",
       " (3.793233082706767, 2.715247214619515e-06),\n",
       " (3.794776119402985, 2.075872794199074e-06),\n",
       " (3.785185185185185, 3.869818273690176e-06),\n",
       " (3.786764705882353, 2.9771501112494567e-06),\n",
       " (3.7846715328467155, 2.906855295169462e-06),\n",
       " (3.786231884057971, 2.229978257172786e-06),\n",
       " (3.7805755395683454, 2.923020543496903e-06),\n",
       " (3.7857142857142856, 1.861736987479408e-06),\n",
       " (3.780141843971631, 2.441850783063681e-06),\n",
       " (3.7816901408450705, 1.8743496554091788e-06),\n",
       " (3.7832167832167833, 1.4348129269825041e-06),\n",
       " (3.7847222222222223, 1.0953489095524478e-06),\n",
       " (3.786206896551724, 8.33914593413763e-07),\n",
       " (3.7945205479452055, 4.5654100105346796e-07),\n",
       " (3.802721088435374, 2.4781068087348057e-07),\n",
       " (3.804054054054054, 1.8647631467675183e-07),\n",
       " (3.8053691275167787, 1.3994497318116365e-07),\n",
       " (3.8066666666666666, 1.0474187906210276e-07),\n",
       " (3.814569536423841, 5.5638738167742754e-08),\n",
       " (3.8223684210526314, 2.9310557354650833e-08),\n",
       " (3.823529411764706, 2.169106984430368e-08),\n",
       " (3.8279220779220777, 1.296533237512879e-08),\n",
       " (3.835483870967742, 6.69721358751862e-09),\n",
       " (3.8365384615384617, 4.90242789582791e-09),\n",
       " (3.837579617834395, 3.579198670373318e-09),\n",
       " (3.8322784810126582, 5.065038279328382e-09),\n",
       " (3.839622641509434, 2.593122661980238e-09),\n",
       " (3.840625, 1.888254008877338e-09),\n",
       " (3.829192546583851, 6.89862648428305e-09),\n",
       " (3.830246913580247, 5.088654193995244e-09),\n",
       " (3.831288343558282, 3.744165106538347e-09),\n",
       " (3.826219512195122, 5.23409616911476e-09),\n",
       " (3.8333333333333335, 2.715045381204715e-09),\n",
       " (3.8343373493975905, 1.9924856311040464e-09),\n",
       " (3.841317365269461, 1.021658248002295e-09),\n",
       " (3.8452380952380953, 5.986014433616568e-10),\n",
       " (3.8520710059171597, 3.026046512497991e-10),\n",
       " (3.85, 2.9667891226340393e-10),\n",
       " (3.8508771929824563, 2.1473424779915278e-10),\n",
       " (3.8459302325581395, 3.087411923363227e-10),\n",
       " (3.8497109826589595, 1.7917893544489147e-10),\n",
       " (3.8505747126436782, 1.2939702905988413e-10),\n",
       " (3.854285714285714, 7.437375301814674e-11),\n",
       " (3.8607954545454546, 3.68536489501502e-11),\n",
       " (3.867231638418079, 1.8128994549484078e-11),\n",
       " (3.8707865168539324, 1.0226884113071301e-11),\n",
       " (3.863128491620112, 2.476407211840968e-11),\n",
       " (3.863888888888889, 1.7738569534234892e-11),\n",
       " (3.8701657458563536, 8.709233016873075e-12),\n",
       " (3.870879120879121, 6.201886620364462e-12),\n",
       " (3.866120218579235, 9.186029818083115e-12),\n",
       " (3.8668478260869565, 6.5513651601619266e-12),\n",
       " (3.8702702702702703, 3.688482306426001e-12),\n",
       " (3.8763440860215055, 1.787257905280176e-12),\n",
       " (3.8823529411764706, 8.600037830948384e-13),\n",
       " (3.882978723404255, 6.056150219694947e-13),\n",
       " (3.8835978835978837, 4.2551292144889585e-13),\n",
       " (3.886842105263158, 2.3370424038676717e-13),\n",
       " (3.887434554973822, 1.6326985261947053e-13),\n",
       " (3.8880208333333335, 1.1380629973295943e-13),\n",
       " (3.88860103626943, 7.91493424125946e-14),\n",
       " (3.8917525773195876, 4.278258438283099e-14),\n",
       " (3.8923076923076922, 2.958555465053198e-14),\n",
       " (3.8877551020408165, 4.623476152843946e-14),\n",
       " (3.8908629441624365, 2.493280074064741e-14),\n",
       " (3.893939393939394, 1.3370684043107038e-14),\n",
       " (3.899497487437186, 6.160613753635314e-15),\n",
       " (3.895, 9.749074156510373e-15),\n",
       " (3.8955223880597014, 6.7127681104016146e-15),\n",
       " (3.896039603960396, 4.6119520070165714e-15),\n",
       " (3.896551724137931, 3.1616414709692205e-15),\n",
       " (3.9019607843137254, 1.443848995257856e-15),\n",
       " (3.897560975609756, 2.309845735394206e-15),\n",
       " (3.9029126213592233, 1.0555998801123747e-15),\n",
       " (3.9082125603864735, 4.793088683620974e-16),\n",
       " (3.9086538461538463, 3.2609910418318076e-16),\n",
       " (3.9138755980861246, 1.466694033719233e-16),\n",
       " (3.914285714285714, 9.927030087378508e-17),\n",
       " (3.914691943127962, 6.704625749290763e-17),\n",
       " (3.9150943396226414, 4.518611521397103e-17),\n",
       " (3.915492957746479, 3.038859398683116e-17),\n",
       " (3.9205607476635516, 1.3418325209316871e-17)]"
      ]
     },
     "execution_count": 54,
     "metadata": {},
     "output_type": "execute_result"
    }
   ],
   "source": [
    "np.random.seed(75241)\n",
    "temp = notas1.sample(frac=1).rating\n",
    "\n",
    "def calcula_teste(i):\n",
    "    media = temp[0:i].mean()\n",
    "    stat, p = ztest(temp[0:i], value = 3.4320503405352603) \n",
    "    return (media, p)\n",
    "\n",
    "medias = [calcula_teste(i) for i in range(2, len(temp))]\n",
    "medias"
   ]
  },
  {
   "cell_type": "code",
   "execution_count": 55,
   "id": "a5b5ec0d",
   "metadata": {},
   "outputs": [
    {
     "data": {
      "text/plain": [
       "[<matplotlib.lines.Line2D at 0x1aa99b68d60>]"
      ]
     },
     "execution_count": 55,
     "metadata": {},
     "output_type": "execute_result"
    },
    {
     "data": {
      "image/png": "[encoded data removed]",
      "text/plain": [
       "<Figure size 432x288 with 1 Axes>"
      ]
     },
     "metadata": {
      "needs_background": "light"
     },
     "output_type": "display_data"
    }
   ],
   "source": [
    "medias = np.array([calcula_teste(i) for i in range(2, len(temp))])\n",
    "medias\n",
    "\n",
    "plt.plot(medias[:,1])"
   ]
  },
  {
   "cell_type": "code",
   "execution_count": null,
   "id": "02689bad",
   "metadata": {},
   "outputs": [],
   "source": []
  }
 ],
 "metadata": {
  "kernelspec": {
   "display_name": "Python 3 (ipykernel)",
   "language": "python",
   "name": "python3"
  },
  "language_info": {
   "codemirror_mode": {
    "name": "ipython",
    "version": 3
   },
   "file_extension": ".py",
   "mimetype": "text/x-python",
   "name": "python",
   "nbconvert_exporter": "python",
   "pygments_lexer": "ipython3",
   "version": "3.9.7"
  }
 },
 "nbformat": 4,
 "nbformat_minor": 5
}
